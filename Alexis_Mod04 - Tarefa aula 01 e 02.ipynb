{
 "cells": [
  {
   "cell_type": "markdown",
   "metadata": {},
   "source": [
    "# Tarefa 01\n",
    "\n",
    "- Leia os enunciados com atenção\n",
    "- Saiba que pode haver mais de uma resposta correta\n",
    "- Insira novas células de código sempre que achar necessário\n",
    "- Em caso de dúvidas, procure os tutores\n",
    "- Divirta-se :)\n",
    "\n",
    "#### 1)  crie uma série do pandas a partir de uma lista com os dados abaixo:\n",
    "\n",
    "Em um estudo sobre alteração na tempreatura global, A NASA disponibiliza dados de diferenças de de temperatura média da superfície terrestre relativos às médias de temperatura entre 1951 e 1980. Os dados originais podem ser vistos no site da NASA/GISS, e estão dispostos a cada década na tabela abaixo.\n",
    "\n",
    "|ano|anomalia termica|\n",
    "|:-:|:----:|\n",
    "| 1900 | -0.08 |\n",
    "| 1920 | -0.27 |\n",
    "| 1940 | 0.12 |\n",
    "| 1960 | -0.03 |\n",
    "| 1980 | 0.26 |\n",
    "| 2000 | 0.40 |\n",
    "| 2020 | 1.02 |\n",
    "\n",
    "Crie uma séries do Pandas a partir de uma lista com esses dados."
   ]
  },
  {
   "cell_type": "code",
   "execution_count": 3,
   "metadata": {},
   "outputs": [],
   "source": [
    "import pandas as pd\n",
    "import numpy as np\n",
    "\n",
    "# Seu código aqui"
   ]
  },
  {
   "cell_type": "markdown",
   "metadata": {},
   "source": [
    "#### 2) Coloque os anos nos índices conforme a tabela."
   ]
  },
  {
   "cell_type": "code",
   "execution_count": 5,
   "metadata": {},
   "outputs": [
    {
     "name": "stdout",
     "output_type": "stream",
     "text": [
      "1900   -0.08\n",
      "1920   -0.27\n",
      "1940    0.12\n",
      "1960   -0.03\n",
      "1980    0.26\n",
      "2000    0.40\n",
      "2020    1.02\n",
      "dtype: float64\n"
     ]
    }
   ],
   "source": [
    "\n",
    "# seu código aqui\n",
    "# Dados\n",
    "dados = {'ano': [1900, 1920, 1940, 1960, 1980, 2000, 2020],\n",
    "         'anomalia termica': [-0.08, -0.27, 0.12, -0.03, 0.26, 0.40, 1.02]}\n",
    "\n",
    "# Criando a série do pandas\n",
    "serie_temperatura = pd.Series(dados['anomalia termica'], index=dados['ano'])\n",
    "\n",
    "# Exibindo a série\n",
    "print(serie_temperatura)"
   ]
  },
  {
   "cell_type": "markdown",
   "metadata": {},
   "source": [
    "#### 3) A partir do dicionário abaixo, crie uma séries do Pandas:"
   ]
  },
  {
   "cell_type": "code",
   "execution_count": 7,
   "metadata": {},
   "outputs": [
    {
     "name": "stdout",
     "output_type": "stream",
     "text": [
      "1900   -0.08\n",
      "1920   -0.27\n",
      "1940    0.12\n",
      "1960   -0.03\n",
      "1980    0.26\n",
      "2000    0.40\n",
      "2020    1.02\n",
      "dtype: float64\n"
     ]
    }
   ],
   "source": [
    "dic_temperaturas = {1900: -.08, 1920: -.27, 1940: .12, 1960: -.03, 1980: .26, 2000: .40, 2020: 1.02}\n",
    "\n",
    "# seu código aqui\n",
    "serie_temperaturas = pd.Series(dic_temperaturas)\n",
    "\n",
    "# Exibindo a série\n",
    "print(serie_temperaturas)"
   ]
  },
  {
   "cell_type": "markdown",
   "metadata": {},
   "source": [
    "#### 4) Transforme o ndarray abaixo em um dataframe. \n",
    "O numpy é capaz de gerar arrays n-dimensionais com números pseudo-aleatórios de acordo com uma variedade de distribuições, como no exemplo abaixo. Transforme esse nd-array em um DataFrame."
   ]
  },
  {
   "cell_type": "code",
   "execution_count": 9,
   "metadata": {},
   "outputs": [
    {
     "name": "stdout",
     "output_type": "stream",
     "text": [
      "       Coluna1     Coluna2     Coluna3\n",
      "0   100.737597  104.475935  102.240496\n",
      "1   102.296289   79.522429   88.451324\n",
      "2   101.456740  100.340437   98.858895\n",
      "3   114.846343   97.108999   89.052376\n",
      "4   108.287505   79.912515   97.059711\n",
      "5   109.605197  102.147017  108.719995\n",
      "6    95.034674  102.361113  105.430379\n",
      "7   108.050780   90.324523  111.176758\n",
      "8    81.400207  111.335808  104.000599\n",
      "9   107.208901   98.736409   92.266432\n",
      "10   97.221738  104.985391  119.375132\n",
      "11   99.045951  118.987245   97.578499\n",
      "12   84.007834  100.599159  106.588612\n",
      "13  104.837113  101.195670  106.829468\n",
      "14  104.286738   94.235005  103.236405\n",
      "15   99.350025   86.784887  106.623343\n",
      "16   83.326765   98.944247   95.798009\n",
      "17  102.380751  101.227087   96.213114\n",
      "18   88.423533  111.448186  106.256618\n",
      "19   92.606861   95.546826   98.799564\n"
     ]
    }
   ],
   "source": [
    "arr = np.random.normal(100, 10, (20,3))\n",
    "\n",
    "# seu código aqui\n",
    "df = pd.DataFrame(arr, columns=['Coluna1', 'Coluna2', 'Coluna3'])\n",
    "print(df)"
   ]
  },
  {
   "cell_type": "markdown",
   "metadata": {},
   "source": [
    "#### 5) Nomeie os índices das linhas com inteiros de 1 a 20, e as colunas com os nomes \"x1\", \"x2\", e \"x3\" respectivamente."
   ]
  },
  {
   "cell_type": "code",
   "execution_count": 11,
   "metadata": {},
   "outputs": [
    {
     "name": "stdout",
     "output_type": "stream",
     "text": [
      "            x1          x2          x3\n",
      "1   100.737597  104.475935  102.240496\n",
      "2   102.296289   79.522429   88.451324\n",
      "3   101.456740  100.340437   98.858895\n",
      "4   114.846343   97.108999   89.052376\n",
      "5   108.287505   79.912515   97.059711\n",
      "6   109.605197  102.147017  108.719995\n",
      "7    95.034674  102.361113  105.430379\n",
      "8   108.050780   90.324523  111.176758\n",
      "9    81.400207  111.335808  104.000599\n",
      "10  107.208901   98.736409   92.266432\n",
      "11   97.221738  104.985391  119.375132\n",
      "12   99.045951  118.987245   97.578499\n",
      "13   84.007834  100.599159  106.588612\n",
      "14  104.837113  101.195670  106.829468\n",
      "15  104.286738   94.235005  103.236405\n",
      "16   99.350025   86.784887  106.623343\n",
      "17   83.326765   98.944247   95.798009\n",
      "18  102.380751  101.227087   96.213114\n",
      "19   88.423533  111.448186  106.256618\n",
      "20   92.606861   95.546826   98.799564\n"
     ]
    }
   ],
   "source": [
    "#seu código aqui\n",
    "df = pd.DataFrame(arr, index=range(1, 21), columns=['x1', 'x2', 'x3'])\n",
    "print(df)"
   ]
  },
  {
   "cell_type": "markdown",
   "metadata": {},
   "source": [
    "#### 6) No DataFrame do exercício 5, crie uma nova coluna como sendo a média das três colunas, e dê a ela o nome de \"media\" (não recomendo colocar acentos em nomes de variáveis)."
   ]
  },
  {
   "cell_type": "code",
   "execution_count": 13,
   "metadata": {},
   "outputs": [
    {
     "name": "stdout",
     "output_type": "stream",
     "text": [
      "            x1          x2          x3       media\n",
      "1   100.737597  104.475935  102.240496  102.484676\n",
      "2   102.296289   79.522429   88.451324   90.090014\n",
      "3   101.456740  100.340437   98.858895  100.218691\n",
      "4   114.846343   97.108999   89.052376  100.335906\n",
      "5   108.287505   79.912515   97.059711   95.086577\n",
      "6   109.605197  102.147017  108.719995  106.824070\n",
      "7    95.034674  102.361113  105.430379  100.942055\n",
      "8   108.050780   90.324523  111.176758  103.184020\n",
      "9    81.400207  111.335808  104.000599   98.912205\n",
      "10  107.208901   98.736409   92.266432   99.403914\n",
      "11   97.221738  104.985391  119.375132  107.194087\n",
      "12   99.045951  118.987245   97.578499  105.203898\n",
      "13   84.007834  100.599159  106.588612   97.065202\n",
      "14  104.837113  101.195670  106.829468  104.287417\n",
      "15  104.286738   94.235005  103.236405  100.586049\n",
      "16   99.350025   86.784887  106.623343   97.586085\n",
      "17   83.326765   98.944247   95.798009   92.689674\n",
      "18  102.380751  101.227087   96.213114   99.940317\n",
      "19   88.423533  111.448186  106.256618  102.042779\n",
      "20   92.606861   95.546826   98.799564   95.651084\n"
     ]
    }
   ],
   "source": [
    "# seu código aqui\n",
    "df['media'] = df.mean(axis=1)\n",
    "print(df)"
   ]
  },
  {
   "cell_type": "markdown",
   "metadata": {},
   "source": [
    "#### 7) No DataFrame do exercício 6, crie uma nova coluna chamada \"log_med\", contendo o logaritmo natural da média calculada no exercício 6 <br>"
   ]
  },
  {
   "cell_type": "code",
   "execution_count": 15,
   "metadata": {},
   "outputs": [
    {
     "name": "stdout",
     "output_type": "stream",
     "text": [
      "            x1          x2          x3       media   log_med\n",
      "1   100.737597  104.475935  102.240496  102.484676  4.629713\n",
      "2   102.296289   79.522429   88.451324   90.090014  4.500809\n",
      "3   101.456740  100.340437   98.858895  100.218691  4.607355\n",
      "4   114.846343   97.108999   89.052376  100.335906  4.608524\n",
      "5   108.287505   79.912515   97.059711   95.086577  4.554788\n",
      "6   109.605197  102.147017  108.719995  106.824070  4.671183\n",
      "7    95.034674  102.361113  105.430379  100.942055  4.614547\n",
      "8   108.050780   90.324523  111.176758  103.184020  4.636514\n",
      "9    81.400207  111.335808  104.000599   98.912205  4.594233\n",
      "10  107.208901   98.736409   92.266432   99.403914  4.599191\n",
      "11   97.221738  104.985391  119.375132  107.194087  4.674641\n",
      "12   99.045951  118.987245   97.578499  105.203898  4.655900\n",
      "13   84.007834  100.599159  106.588612   97.065202  4.575383\n",
      "14  104.837113  101.195670  106.829468  104.287417  4.647151\n",
      "15  104.286738   94.235005  103.236405  100.586049  4.611014\n",
      "16   99.350025   86.784887  106.623343   97.586085  4.580735\n",
      "17   83.326765   98.944247   95.798009   92.689674  4.529257\n",
      "18  102.380751  101.227087   96.213114   99.940317  4.604573\n",
      "19   88.423533  111.448186  106.256618  102.042779  4.625392\n",
      "20   92.606861   95.546826   98.799564   95.651084  4.560707\n"
     ]
    }
   ],
   "source": [
    "# seu código aqui\n",
    "df['log_med'] = np.log(df['media'])\n",
    "print(df)"
   ]
  },
  {
   "cell_type": "code",
   "execution_count": null,
   "metadata": {},
   "outputs": [],
   "source": []
  }
 ],
 "metadata": {
  "kernelspec": {
   "display_name": "anaconda-2022.05-py39",
   "language": "python",
   "name": "conda-env-anaconda-2022.05-py39-py"
  },
  "language_info": {
   "codemirror_mode": {
    "name": "ipython",
    "version": 3
   },
   "file_extension": ".py",
   "mimetype": "text/x-python",
   "name": "python",
   "nbconvert_exporter": "python",
   "pygments_lexer": "ipython3",
   "version": "3.9.12"
  }
 },
 "nbformat": 4,
 "nbformat_minor": 4
}
