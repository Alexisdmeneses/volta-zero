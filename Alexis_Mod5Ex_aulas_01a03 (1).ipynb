{
 "cells": [
  {
   "cell_type": "markdown",
   "metadata": {},
   "source": [
    "# Módulo 5 Tarefa 1\n",
    "## Base de nascidos vivos do DataSUS\n",
    "O DataSUS disponibiliza diversos arquivos de dados com relação a seus segurados, conforme a [lei da transparência de informações públicas](https://www.sisgov.com/transparencia-acesso-informacao/#:~:text=A%20Lei%20da%20Transpar%C3%AAncia%20(LC,em%20um%20site%20na%20internet.). \n",
    "\n",
    "Essas informações podem ser obtidas pela internet [aqui](http://www2.datasus.gov.br/DATASUS/index.php?area=0901&item=1). Como o processo de obtenção desses arquivos foge um pouco do nosso escopo, deixamos o arquivo ```SINASC_RO_2019.csv``` já como vai ser encontrado no DataSUS. O dicionário de dados está no arquivo ```estrutura_sinasc_para_CD.pdf``` (o nome do arquivo tal qual no portal do DataSUS).\n",
    "\n",
    "### Nosso objetivo\n",
    "Queremos deixar uma base organizada para podermos estudar a relação entre partos com risco para o bebê e algumas condições como tempo de parto, consultas de pré-natal etc.\n",
    "\n",
    "#### Preparação da base\n",
    "1. Carregue a base 'SINASC_RO_2019.csv'. Conte o número de registros e o número de registros não duplicados da base. Dica: você aprendeu um método que remove duplicados, encadeie este método com um outro método que conta o número de linhas. **Há linhas duplicadas?**  \n",
    "\n",
    "2. Conte o número de valores *missing* por variável.  \n",
    "\n",
    "3. Ok, no item anterior você deve ter achado pouco prático ler a informação de tantas variáveis, muitas delas nem devem ser interesantes. Então crie uma seleção dessa base somente com as colunas que interessam. São elas:\n",
    "``` \n",
    "['LOCNASC', 'IDADEMAE', 'ESTCIVMAE', 'ESCMAE', 'QTDFILVIVO', \n",
    "    'GESTACAO', 'GRAVIDEZ', 'CONSULTAS', 'APGAR5'] \n",
    "```\n",
    "Refaça a contagem de valores *missings*.  \n",
    "\n",
    "4. Apgar é uma *nota* que o pediatra dá ao bebê quando nasce de acordo com algumas características associadas principalmente à respiração. Apgar 1 e Apgar 5 são as notas 1 e 5 minutos do nascimento. Apgar5 será a nossa variável de interesse principal. Então remova todos os registros com Apgar5 não preenchido. Para esta seleção, conte novamente o número de linhas e o número de *missings*.  \n",
    "\n",
    "5. observe que as variáveis ```['ESTCIVMAE', 'CONSULTAS']``` possuem o código ```9```, que significa *ignorado*. Vamos assumir que o não preenchido é o mesmo que o código ```9```.<br>\n",
    "6. Substitua os valores faltantes da quantitativa (```QTDFILVIVO```) por zero.  \n",
    "7. Das restantes, decida que valore te parece mais adequado (um 'não preenchido' ou um valor 'mais provável' como no item anterior) e preencha. Justifique. Lembre-se de que tratamento de dados é trabalho do cientista, e que estamos tomando decisões a todo o momento - não há necessariamente certo e errado aqui.  \n",
    "8. O Apgar possui uma classificação indicando se o bebê passou por asfixia:\n",
    "- Entre 8 e 10 está em uma faixa 'normal'. \n",
    "- Entre 6 e 7, significa que o recém-nascido passou por 'asfixia leve'. \n",
    "- Entre 4 e 5 significa 'asfixia moderada'.\n",
    "- Entre 0 e 3 significa 'asfixia severa'.  \n",
    "\n",
    "Crie uma categorização dessa variável com essa codificação e calcule as frequências dessa categorização.  \n",
    "<br>\n",
    "9. Renomeie as variáveis para que fiquem no *snake case*, ou seja, em letras minúsculas, com um *underscore* entre as palávras. Dica: repare que se você não quiser criar um *dataframe* novo, você vai precisar usar a opção ```inplace = True```."
   ]
  },
  {
   "cell_type": "code",
   "execution_count": 1,
   "metadata": {},
   "outputs": [
    {
     "name": "stdout",
     "output_type": "stream",
     "text": [
      "Número total de registros: 27028\n",
      "Número de registros não duplicados: 27028\n"
     ]
    }
   ],
   "source": [
    "import pandas as pd\n",
    "import requests\n",
    "\n",
    "# 1) seu código aqui\n",
    "\n",
    "\n",
    "# Replace 'YOUR_RAW_CSV_URL' with the actual raw URL of your CSV file\n",
    "csv_url = 'https://raw.githubusercontent.com/Alexisdmeneses/volta-zero/main/SINASC_RO_2019.csv'\n",
    "\n",
    "# Carregar a base de dados\n",
    "sinasc = pd.read_csv(csv_url)\n",
    "\n",
    "# Contar o número de registros\n",
    "num_registros_total = sinasc.shape[0]\n",
    "num_registros_nao_duplicados = sinasc.drop_duplicates().shape[0]\n",
    "\n",
    "# Exibir os resultados\n",
    "print(f\"Número total de registros: {num_registros_total}\")\n",
    "print(f\"Número de registros não duplicados: {num_registros_nao_duplicados}\")"
   ]
  },
  {
   "cell_type": "code",
   "execution_count": 2,
   "metadata": {},
   "outputs": [
    {
     "name": "stdout",
     "output_type": "stream",
     "text": [
      "Número de valores ausentes por variável:\n",
      "ORIGEM          0\n",
      "CODESTAB      115\n",
      "CODMUNNASC      0\n",
      "LOCNASC         0\n",
      "IDADEMAE        0\n",
      "             ... \n",
      "munResUf        0\n",
      "munResLat       1\n",
      "munResLon       1\n",
      "munResAlt       1\n",
      "munResArea      1\n",
      "Length: 69, dtype: int64\n"
     ]
    }
   ],
   "source": [
    "# 2) seu código aqui\n",
    "\n",
    "# Contar o número de valores ausentes por variável\n",
    "valores_ausentes_por_variavel = sinasc.isnull().sum()\n",
    "\n",
    "# Exibir os resultados\n",
    "print(\"Número de valores ausentes por variável:\")\n",
    "print(valores_ausentes_por_variavel)"
   ]
  },
  {
   "cell_type": "code",
   "execution_count": 3,
   "metadata": {},
   "outputs": [
    {
     "name": "stdout",
     "output_type": "stream",
     "text": [
      "   LOCNASC  IDADEMAE  ESTCIVMAE           ESCMAE  QTDFILVIVO         GESTACAO  \\\n",
      "0        1        19        5.0      8 a 11 anos         0.0  37 a 41 semanas   \n",
      "1        1        29        2.0      8 a 11 anos         1.0  37 a 41 semanas   \n",
      "2        1        37        9.0      8 a 11 anos         2.0  37 a 41 semanas   \n",
      "3        1        30        5.0  12 anos ou mais         0.0  37 a 41 semanas   \n",
      "4        1        30        2.0      8 a 11 anos         1.0  37 a 41 semanas   \n",
      "\n",
      "  GRAVIDEZ  CONSULTAS  APGAR5  \n",
      "0    Única          4    10.0  \n",
      "1    Única          4     9.0  \n",
      "2    Única          4    10.0  \n",
      "3    Única          3    10.0  \n",
      "4    Única          4    10.0  \n"
     ]
    }
   ],
   "source": [
    "# 3) seu código aqui\n",
    "\n",
    "# Selecionar apenas as colunas de interesse\n",
    "colunas_interesse = ['LOCNASC', 'IDADEMAE', 'ESTCIVMAE', 'ESCMAE', 'QTDFILVIVO', 'GESTACAO', 'GRAVIDEZ', 'CONSULTAS', 'APGAR5']\n",
    "dados_selecionados_df = sinasc[colunas_interesse]\n",
    "\n",
    "# Exibir as primeiras linhas da nova base de dados\n",
    "print(dados_selecionados_df.head())"
   ]
  },
  {
   "cell_type": "code",
   "execution_count": 4,
   "metadata": {},
   "outputs": [
    {
     "name": "stdout",
     "output_type": "stream",
     "text": [
      "Número de valores ausentes por variável:\n",
      "ORIGEM          0\n",
      "CODESTAB      115\n",
      "CODMUNNASC      0\n",
      "LOCNASC         0\n",
      "IDADEMAE        0\n",
      "             ... \n",
      "munResUf        0\n",
      "munResLat       1\n",
      "munResLon       1\n",
      "munResAlt       1\n",
      "munResArea      1\n",
      "Length: 69, dtype: int64\n"
     ]
    }
   ],
   "source": [
    "# Contar o número de valores ausentes por variável\n",
    "valores_ausentes_por_variavel = sinasc.isnull().sum()\n",
    "\n",
    "# Exibir os resultados\n",
    "print(\"Número de valores ausentes por variável:\")\n",
    "print(valores_ausentes_por_variavel)"
   ]
  },
  {
   "cell_type": "code",
   "execution_count": 5,
   "metadata": {},
   "outputs": [],
   "source": [
    "# 4) seu código aqui\n",
    "\n",
    "# Contar o número de linhas antes da remoção\n",
    "num_linhas_antes = sinasc.shape[0]"
   ]
  },
  {
   "cell_type": "code",
   "execution_count": 6,
   "metadata": {},
   "outputs": [],
   "source": [
    "# Remover registros com valores ausentes em 'APGAR5'\n",
    "sinasc = sinasc.dropna(subset=['APGAR5'])"
   ]
  },
  {
   "cell_type": "code",
   "execution_count": 7,
   "metadata": {},
   "outputs": [],
   "source": [
    "# Contar o número de linhas após a remoção\n",
    "num_linhas_apos = sinasc.shape[0]"
   ]
  },
  {
   "cell_type": "code",
   "execution_count": 8,
   "metadata": {},
   "outputs": [],
   "source": [
    "# Contar o número de valores ausentes por variável após a remoção\n",
    "valores_ausentes_por_variavel_apos = sinasc.isnull().sum()"
   ]
  },
  {
   "cell_type": "code",
   "execution_count": 9,
   "metadata": {},
   "outputs": [
    {
     "name": "stdout",
     "output_type": "stream",
     "text": [
      "Número de linhas antes da remoção: 27028\n",
      "Número de linhas após a remoção: 26925\n",
      "\n",
      "Número de valores ausentes por variável após a remoção:\n",
      "ORIGEM         0\n",
      "CODESTAB      66\n",
      "CODMUNNASC     0\n",
      "LOCNASC        0\n",
      "IDADEMAE       0\n",
      "              ..\n",
      "munResUf       0\n",
      "munResLat      1\n",
      "munResLon      1\n",
      "munResAlt      1\n",
      "munResArea     1\n",
      "Length: 69, dtype: int64\n"
     ]
    }
   ],
   "source": [
    "# Exibir os resultados\n",
    "print(f\"Número de linhas antes da remoção: {num_linhas_antes}\")\n",
    "print(f\"Número de linhas após a remoção: {num_linhas_apos}\")\n",
    "print(\"\\nNúmero de valores ausentes por variável após a remoção:\")\n",
    "print(valores_ausentes_por_variavel_apos)"
   ]
  },
  {
   "cell_type": "code",
   "execution_count": 10,
   "metadata": {},
   "outputs": [
    {
     "name": "stdout",
     "output_type": "stream",
     "text": [
      "Número de linhas antes da remoção: 26925\n",
      "Número de linhas após a remoção: 26416\n",
      "\n",
      "Número de valores ausentes por variável após a remoção:\n",
      "ORIGEM         0\n",
      "CODESTAB      65\n",
      "CODMUNNASC     0\n",
      "LOCNASC        0\n",
      "IDADEMAE       0\n",
      "              ..\n",
      "munResUf       0\n",
      "munResLat      1\n",
      "munResLon      1\n",
      "munResAlt      1\n",
      "munResArea     1\n",
      "Length: 69, dtype: int64\n"
     ]
    }
   ],
   "source": [
    "# 5) seu código aqui\n",
    "\n",
    "# Substituir o código 9 por NaN nas variáveis 'ESTCIVMAE' e 'CONSULTAS'\n",
    "sinasc['ESTCIVMAE'].replace(9, pd.NA, inplace=True)\n",
    "sinasc['CONSULTAS'].replace(9, pd.NA, inplace=True)\n",
    "\n",
    "# Contar o número de linhas antes da remoção\n",
    "num_linhas_antes = sinasc.shape[0]\n",
    "\n",
    "# Remover registros com valores ausentes em 'APGAR5', 'ESTCIVMAE' e 'CONSULTAS'\n",
    "sinasc = sinasc.dropna(subset=['APGAR5', 'ESTCIVMAE', 'CONSULTAS'])\n",
    "\n",
    "# Contar o número de linhas após a remoção\n",
    "num_linhas_apos = sinasc.shape[0]\n",
    "\n",
    "# Contar o número de valores ausentes por variável após a remoção\n",
    "valores_ausentes_por_variavel_apos = sinasc.isnull().sum()\n",
    "\n",
    "# Exibir os resultados\n",
    "print(f\"Número de linhas antes da remoção: {num_linhas_antes}\")\n",
    "print(f\"Número de linhas após a remoção: {num_linhas_apos}\")\n",
    "print(\"\\nNúmero de valores ausentes por variável após a remoção:\")\n",
    "print(valores_ausentes_por_variavel_apos)"
   ]
  },
  {
   "cell_type": "code",
   "execution_count": 11,
   "metadata": {},
   "outputs": [
    {
     "name": "stdout",
     "output_type": "stream",
     "text": [
      "Número de valores ausentes em 'QTDFILVIVO':\n",
      "0\n"
     ]
    }
   ],
   "source": [
    "# 6) Seu código aqui\n",
    "\n",
    "# Substituir os valores faltantes em 'QTDFILVIVO' por zero\n",
    "sinasc['QTDFILVIVO'].fillna(0, inplace=True)\n",
    "\n",
    "# Contar o número de valores ausentes por variável\n",
    "valores_ausentes_QTDFILVIVO = sinasc['QTDFILVIVO'].isnull().sum()\n",
    "\n",
    "# Exibir os resultados\n",
    "print(\"Número de valores ausentes em 'QTDFILVIVO':\")\n",
    "print(valores_ausentes_QTDFILVIVO)"
   ]
  },
  {
   "cell_type": "code",
   "execution_count": 12,
   "metadata": {},
   "outputs": [
    {
     "name": "stdout",
     "output_type": "stream",
     "text": [
      "Número de valores ausentes em 'LOCNASC':\n",
      "0\n"
     ]
    }
   ],
   "source": [
    "# 7) seu código aqui\n",
    "\n",
    "# LOCNASC usaremos a média da variável ja que e o mais provavel do local de ocorrrencia do nascimento\n",
    "# Calcular a média da variável 'LOCNASC'\n",
    "media_LOCNASC = sinasc['LOCNASC'].mean()\n",
    "\n",
    "# Substituir os valores faltantes em 'QTDFILVIVO' pela media\n",
    "sinasc['LOCNASC'].fillna(media_LOCNASC, inplace=True)\n",
    "\n",
    "# Contar o número de valores ausentes por variável\n",
    "valores_ausentes_LOCNASC = sinasc['LOCNASC'].isnull().sum()\n",
    "\n",
    "# Exibir os resultados\n",
    "print(\"Número de valores ausentes em 'LOCNASC':\")\n",
    "print(valores_ausentes_LOCNASC)"
   ]
  },
  {
   "cell_type": "code",
   "execution_count": 13,
   "metadata": {},
   "outputs": [
    {
     "name": "stdout",
     "output_type": "stream",
     "text": [
      "Número de valores ausentes em 'IDADEMAE':\n",
      "0\n"
     ]
    }
   ],
   "source": [
    "# IDADEMAE usaremos a média da variável porque eh a idade mais provavel da mae\n",
    "# Calcular a média da variável 'IDADEMAE'\n",
    "media_IDADEMAE = sinasc['IDADEMAE'].mean()\n",
    "\n",
    "# Substituir os valores faltantes em 'IDADEMAE' pela media\n",
    "sinasc['IDADEMAE'].fillna(media_LOCNASC, inplace=True)\n",
    "\n",
    "# Contar o número de valores ausentes por variável\n",
    "valores_ausentes_IDADEMAE = sinasc['IDADEMAE'].isnull().sum()\n",
    "\n",
    "# Exibir os resultados\n",
    "print(\"Número de valores ausentes em 'IDADEMAE':\")\n",
    "print(valores_ausentes_IDADEMAE)"
   ]
  },
  {
   "cell_type": "code",
   "execution_count": 14,
   "metadata": {},
   "outputs": [
    {
     "name": "stdout",
     "output_type": "stream",
     "text": [
      "Número de valores ausentes em 'ESTCIVMAE':\n",
      "0\n"
     ]
    }
   ],
   "source": [
    "# ESTCIVMAE usaremos a média da variável porque eh o estado civil mais provavel da mae\n",
    "# Calcular a média da variável 'ESTCIVMAE'\n",
    "media_ESTCIVMAE = sinasc['ESTCIVMAE'].mean()\n",
    "\n",
    "# Substituir os valores faltantes em 'ESTCIVMAE' pela media\n",
    "sinasc['ESTCIVMAE'].fillna(media_ESTCIVMAE, inplace=True)\n",
    "\n",
    "# Contar o número de valores ausentes por variável\n",
    "valores_ausentes_ESTCIVMAE = sinasc['ESTCIVMAE'].isnull().sum()\n",
    "\n",
    "# Exibir os resultados\n",
    "print(\"Número de valores ausentes em 'ESTCIVMAE':\")\n",
    "print(valores_ausentes_ESTCIVMAE)"
   ]
  },
  {
   "cell_type": "code",
   "execution_count": 15,
   "metadata": {},
   "outputs": [
    {
     "name": "stdout",
     "output_type": "stream",
     "text": [
      "            ESCMAE  ANOS_ESTUDO_CONCL_INDICE\n",
      "0      8 a 11 anos                       4.0\n",
      "1      8 a 11 anos                       4.0\n",
      "3  12 anos ou mais                       5.0\n",
      "4      8 a 11 anos                       4.0\n",
      "5       1 a 3 anos                       2.0\n"
     ]
    }
   ],
   "source": [
    "# Mapear os anos de estudo concluídos para os índices\n",
    "mapeamento_anos_estudo = {\n",
    "    'Nenhuma': 1,\n",
    "    '1 a 3 anos': 2,\n",
    "    '4 a 7 anos': 3,\n",
    "    '8 a 11 anos': 4,\n",
    "    '12 anos ou mais': 5,\n",
    "    'Ignorado': 9\n",
    "}\n",
    "\n",
    "# Criar uma nova coluna com os índices mapeados\n",
    "sinasc['ANOS_ESTUDO_CONCL_INDICE'] = sinasc['ESCMAE'].map(mapeamento_anos_estudo)\n",
    "\n",
    "# Exibir as primeiras linhas da base de dados com a nova coluna\n",
    "print(sinasc[['ESCMAE', 'ANOS_ESTUDO_CONCL_INDICE']].head())"
   ]
  },
  {
   "cell_type": "code",
   "execution_count": 16,
   "metadata": {},
   "outputs": [
    {
     "name": "stdout",
     "output_type": "stream",
     "text": [
      "Número de valores ausentes em 'ANOS_ESTUDO_CONCL_INDICE':\n",
      "0\n"
     ]
    }
   ],
   "source": [
    "# ESCMAE usaremos a média da variável porque eh a escolaridade mais provavel da mae\n",
    "# Calcular a média da variável 'ESCMAE'\n",
    "media_ESCMAE = sinasc['ANOS_ESTUDO_CONCL_INDICE'].mean()\n",
    "\n",
    "# Substituir os valores faltantes em 'ESCMAE' pela media\n",
    "sinasc['ANOS_ESTUDO_CONCL_INDICE'].fillna(media_ESCMAE, inplace=True)\n",
    "\n",
    "# Contar o número de valores ausentes por variável\n",
    "valores_ausentes_ESCMAE = sinasc['ANOS_ESTUDO_CONCL_INDICE'].isnull().sum()\n",
    "\n",
    "# Exibir os resultados\n",
    "print(\"Número de valores ausentes em 'ANOS_ESTUDO_CONCL_INDICE':\")\n",
    "print(valores_ausentes_ESCMAE)"
   ]
  },
  {
   "cell_type": "code",
   "execution_count": 17,
   "metadata": {},
   "outputs": [
    {
     "name": "stdout",
     "output_type": "stream",
     "text": [
      "Número de valores ausentes em 'QTDFILVIVO':\n",
      "0\n"
     ]
    }
   ],
   "source": [
    "# QTDFILVIVO usaremos a média da variável porque eh a quantidade de filhos vivos mais provavel\n",
    "# Calcular a média da variável 'QTDFILVIVO'\n",
    "moda_QTDFILVIVO = sinasc['QTDFILVIVO'].mode()\n",
    "\n",
    "# Substituir os valores faltantes em 'QTDFILVIVO' pela moda\n",
    "sinasc['QTDFILVIVO'].fillna(moda_QTDFILVIVO, inplace=True)\n",
    "\n",
    "# Contar o número de valores ausentes por variável\n",
    "valores_ausentes_QTDFILVIVO = sinasc['QTDFILVIVO'].isnull().sum()\n",
    "\n",
    "# Exibir os resultados\n",
    "print(\"Número de valores ausentes em 'QTDFILVIVO':\")\n",
    "print(valores_ausentes_QTDFILVIVO)"
   ]
  },
  {
   "cell_type": "code",
   "execution_count": 18,
   "metadata": {},
   "outputs": [
    {
     "name": "stdout",
     "output_type": "stream",
     "text": [
      "          GESTACAO  SEMANAS_GESTACAO_INDICE\n",
      "0  37 a 41 semanas                      5.0\n",
      "1  37 a 41 semanas                      5.0\n",
      "3  37 a 41 semanas                      5.0\n",
      "4  37 a 41 semanas                      5.0\n",
      "5  37 a 41 semanas                      5.0\n"
     ]
    }
   ],
   "source": [
    "# Mapear as semanas de gestacao para os indices\n",
    "mapeamento_semanas_gestacao = {\n",
    "    'Menos de 22 semanas': 1,\n",
    "    '22 a 27 semanas': 2,\n",
    "    '28 a 31 semanas': 3,\n",
    "    '32 a 36 semanas': 4,\n",
    "    '37 a 41 semanas': 5,\n",
    "    '42 semanas e mais': 6,\n",
    "    'Ignorado': 9\n",
    "}\n",
    "\n",
    "# Criar uma nova coluna com os índices mapeados\n",
    "sinasc['SEMANAS_GESTACAO_INDICE'] = sinasc['GESTACAO'].map(mapeamento_semanas_gestacao)\n",
    "\n",
    "# Exibir as primeiras linhas da base de dados com a nova coluna\n",
    "print(sinasc[['GESTACAO', 'SEMANAS_GESTACAO_INDICE']].head())"
   ]
  },
  {
   "cell_type": "code",
   "execution_count": 19,
   "metadata": {},
   "outputs": [
    {
     "name": "stdout",
     "output_type": "stream",
     "text": [
      "Número de valores ausentes em 'SEMANAS_GESTACAO_INDICE':\n",
      "0\n"
     ]
    }
   ],
   "source": [
    "# GESTACAO usaremos a média da variável porque eh o tempo de gestacao mais provavel da mae\n",
    "# Calcular a média da variável 'GESTACAO'\n",
    "media_GESTACAO = sinasc['SEMANAS_GESTACAO_INDICE'].mean()\n",
    "\n",
    "# Substituir os valores faltantes em 'GESTACAO' pela media\n",
    "sinasc['SEMANAS_GESTACAO_INDICE'].fillna(media_GESTACAO, inplace=True)\n",
    "\n",
    "# Contar o número de valores ausentes por variável\n",
    "valores_ausentes_GESTACAO = sinasc['SEMANAS_GESTACAO_INDICE'].isnull().sum()\n",
    "\n",
    "# Exibir os resultados\n",
    "print(\"Número de valores ausentes em 'SEMANAS_GESTACAO_INDICE':\")\n",
    "print(valores_ausentes_ESCMAE)"
   ]
  },
  {
   "cell_type": "code",
   "execution_count": 20,
   "metadata": {},
   "outputs": [
    {
     "name": "stdout",
     "output_type": "stream",
     "text": [
      "  GRAVIDEZ  GRAVIDEZ_INDICE\n",
      "0    Única              1.0\n",
      "1    Única              1.0\n",
      "3    Única              1.0\n",
      "4    Única              1.0\n",
      "5    Única              1.0\n"
     ]
    }
   ],
   "source": [
    "# Mapear as vezes que a mae esteve gravida para os indices\n",
    "mapeamento_GRAVIDEZ = {\n",
    "    'Única': 1,\n",
    "    'Dupla': 2,\n",
    "    'Tripla ou mais ': 3,\n",
    "    'Ignorado': 9\n",
    "}\n",
    "\n",
    "# Criar uma nova coluna com os índices mapeados\n",
    "sinasc['GRAVIDEZ_INDICE'] = sinasc['GRAVIDEZ'].map(mapeamento_GRAVIDEZ)\n",
    "\n",
    "# Exibir as primeiras linhas da base de dados com a nova coluna\n",
    "print(sinasc[['GRAVIDEZ', 'GRAVIDEZ_INDICE']].head())"
   ]
  },
  {
   "cell_type": "code",
   "execution_count": 21,
   "metadata": {},
   "outputs": [
    {
     "name": "stdout",
     "output_type": "stream",
     "text": [
      "Número de valores ausentes em 'GRAVIDEZ_INDICE':\n",
      "0\n"
     ]
    }
   ],
   "source": [
    "# GRAVIDEZ usaremos a média da variável porque sao as vezes que mais provaveis que a mae esteve gravida\n",
    "# Calcular a média da variável 'GESTACAO'\n",
    "media_GRAVIDEZ = sinasc['GRAVIDEZ_INDICE'].mean()\n",
    "\n",
    "# Substituir os valores faltantes em 'GRAVIDEZ' pela media\n",
    "sinasc['GRAVIDEZ_INDICE'].fillna(media_GRAVIDEZ, inplace=True)\n",
    "\n",
    "# Contar o número de valores ausentes por variável\n",
    "valores_ausentes_GRAVIDEZ = sinasc['GRAVIDEZ_INDICE'].isnull().sum()\n",
    "\n",
    "# Exibir os resultados\n",
    "print(\"Número de valores ausentes em 'GRAVIDEZ_INDICE':\")\n",
    "print(valores_ausentes_GRAVIDEZ)"
   ]
  },
  {
   "cell_type": "code",
   "execution_count": 22,
   "metadata": {},
   "outputs": [
    {
     "name": "stdout",
     "output_type": "stream",
     "text": [
      "Número de valores ausentes em 'CONSULTASE':\n",
      "0\n"
     ]
    }
   ],
   "source": [
    "# CONSULTAS usaremos a média da variável porque sao as quantidades de consultas pre-natal mais provaveis que a mae fez\n",
    "# Calcular a média da variável 'CONSULTAS'\n",
    "media_CONSULTAS = sinasc['CONSULTAS'].mean()\n",
    "\n",
    "# Substituir os valores faltantes em 'CONSULTAS' pela media\n",
    "sinasc['CONSULTAS'].fillna(media_CONSULTAS, inplace=True)\n",
    "\n",
    "# Contar o número de valores ausentes por variável\n",
    "valores_ausentes_CONSULTAS= sinasc['CONSULTAS'].isnull().sum()\n",
    "\n",
    "# Exibir os resultados\n",
    "print(\"Número de valores ausentes em 'CONSULTASE':\")\n",
    "print(valores_ausentes_CONSULTAS)"
   ]
  },
  {
   "cell_type": "code",
   "execution_count": 23,
   "metadata": {},
   "outputs": [
    {
     "name": "stdout",
     "output_type": "stream",
     "text": [
      "Número de valores ausentes em 'APGAR5':\n",
      "0\n"
     ]
    }
   ],
   "source": [
    "# APGAR5 usaremos a média da variável porque sao as notas mais provaveis pros bebes de 5 minutos do nascimento\n",
    "# Calcular a média da variável 'APGAR5'\n",
    "media_APGAR5 = sinasc['APGAR5'].mean()\n",
    "\n",
    "# Substituir os valores faltantes em 'APGAR5' pela media\n",
    "sinasc['APGAR5'].fillna(media_APGAR5, inplace=True)\n",
    "\n",
    "# Contar o número de valores ausentes por variável\n",
    "valores_ausentes_APGAR5 = sinasc['APGAR5'].isnull().sum()\n",
    "\n",
    "# Exibir os resultados\n",
    "print(\"Número de valores ausentes em 'APGAR5':\")\n",
    "print(valores_ausentes_APGAR5)"
   ]
  },
  {
   "cell_type": "code",
   "execution_count": 24,
   "metadata": {},
   "outputs": [
    {
     "name": "stdout",
     "output_type": "stream",
     "text": [
      "Frequências da categorização do Apgar:\n",
      "APGAR_CATEGORIA\n",
      "normal              17966\n",
      "asfixia leve          122\n",
      "asfixia severa         57\n",
      "asfixia moderada       38\n",
      "Name: count, dtype: int64\n"
     ]
    }
   ],
   "source": [
    "# 8) seu código aqui\n",
    "# Definir os intervalos e rótulos para a categorização do Apgar\n",
    "intervalos = [-1, 3, 5, 7, 10]\n",
    "rotulos = ['asfixia severa', 'asfixia moderada', 'asfixia leve', 'normal']\n",
    "\n",
    "# Criar a nova coluna 'APGAR_CATEGORIA' com a categorização\n",
    "sinasc['APGAR_CATEGORIA'] = pd.cut(sinasc['APGAR5'], bins=intervalos, labels=rotulos, right=False)\n",
    "\n",
    "# Calcular as frequências da categorização\n",
    "frequencias_apgar_categoria = sinasc['APGAR_CATEGORIA'].value_counts()\n",
    "\n",
    "# Exibir as frequências\n",
    "print(\"Frequências da categorização do Apgar:\")\n",
    "print(frequencias_apgar_categoria)"
   ]
  },
  {
   "cell_type": "code",
   "execution_count": 25,
   "metadata": {},
   "outputs": [
    {
     "name": "stdout",
     "output_type": "stream",
     "text": [
      "   origem   codestab  codmunnasc  locnasc  idademae estcivmae  \\\n",
      "0       1  2679477.0      110001        1        19       5.0   \n",
      "1       1  2679477.0      110001        1        29       2.0   \n",
      "3       1  2516500.0      110001        1        30       5.0   \n",
      "4       1  2516500.0      110001        1        30       2.0   \n",
      "5       1  2516500.0      110001        1        33       5.0   \n",
      "\n",
      "            escmae  codocupmae  qtdfilvivo  qtdfilmort  ...  \\\n",
      "0      8 a 11 anos         NaN         0.0         0.0  ...   \n",
      "1      8 a 11 anos    999992.0         1.0         0.0  ...   \n",
      "3  12 anos ou mais    231205.0         0.0         0.0  ...   \n",
      "4      8 a 11 anos    999992.0         1.0         0.0  ...   \n",
      "5       1 a 3 anos    621005.0         2.0         1.0  ...   \n",
      "\n",
      "                munresnome  munresuf munreslat munreslon munresalt munresarea  \\\n",
      "0    Alta Floresta D'Oeste  Rondônia -11.93554 -61.99982     338.0   7067.025   \n",
      "1    Alta Floresta D'Oeste  Rondônia -11.93554 -61.99982     338.0   7067.025   \n",
      "3  Alto Alegre dos Parecis  Rondônia -12.13178 -61.85308     397.0   3958.273   \n",
      "4    Alta Floresta D'Oeste  Rondônia -11.93554 -61.99982     338.0   7067.025   \n",
      "5    Alta Floresta D'Oeste  Rondônia -11.93554 -61.99982     338.0   7067.025   \n",
      "\n",
      "   anos_estudo_concl_indice semanas_gestacao_indice  gravidez_indice  \\\n",
      "0                       4.0                     5.0              1.0   \n",
      "1                       4.0                     5.0              1.0   \n",
      "3                       5.0                     5.0              1.0   \n",
      "4                       4.0                     5.0              1.0   \n",
      "5                       2.0                     5.0              1.0   \n",
      "\n",
      "   apgar_categoria  \n",
      "0              NaN  \n",
      "1           normal  \n",
      "3              NaN  \n",
      "4              NaN  \n",
      "5              NaN  \n",
      "\n",
      "[5 rows x 73 columns]\n"
     ]
    }
   ],
   "source": [
    "# 9) seu código aqui\n",
    "# Obter os nomes das colunas existentes\n",
    "nomes_colunas = sinasc.columns\n",
    "\n",
    "# Criar um dicionário de mapeamento para renomear todas as variáveis\n",
    "mapeamento_renomeacao = {coluna: coluna.lower().replace(' ', '_') for coluna in nomes_colunas}\n",
    "\n",
    "# Renomear as variáveis\n",
    "sinasc.rename(columns=mapeamento_renomeacao, inplace=True)\n",
    "\n",
    "# Exibir as primeiras linhas do DataFrame após a renomeação\n",
    "print(sinasc.head())"
   ]
  },
  {
   "cell_type": "code",
   "execution_count": null,
   "metadata": {},
   "outputs": [],
   "source": []
  }
 ],
 "metadata": {
  "kernelspec": {
   "display_name": "Python 3 (ipykernel)",
   "language": "python",
   "name": "python3"
  },
  "language_info": {
   "codemirror_mode": {
    "name": "ipython",
    "version": 3
   },
   "file_extension": ".py",
   "mimetype": "text/x-python",
   "name": "python",
   "nbconvert_exporter": "python",
   "pygments_lexer": "ipython3",
   "version": "3.11.5"
  }
 },
 "nbformat": 4,
 "nbformat_minor": 4
}
