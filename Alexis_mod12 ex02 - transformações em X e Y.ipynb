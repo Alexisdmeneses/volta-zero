{
 "cells": [
  {
   "cell_type": "markdown",
   "metadata": {},
   "source": [
    "# Regressão 01 - tarefa 02 - transformações em X e Y"
   ]
  },
  {
   "cell_type": "markdown",
   "metadata": {},
   "source": [
    "### 1. Melhorando o ajuste no percentual de gorjetas\n",
    "\n",
    "a. Vamos partir do modelo feito na última tarefa, o que relaciona ```tip_pct``` e ```net_bill```. Carregue a base, os pacotes e reproduza este modelo aqui."
   ]
  },
  {
   "cell_type": "code",
   "execution_count": 1,
   "metadata": {},
   "outputs": [],
   "source": [
    "import pandas as pd\n",
    "import seaborn as sns\n",
    "from seaborn import load_dataset\n",
    "\n",
    "import matplotlib.pyplot as plt\n",
    "\n",
    "import numpy as np\n",
    "\n",
    "import statsmodels.formula.api as smf\n",
    "import statsmodels.api as sm"
   ]
  },
  {
   "cell_type": "code",
   "execution_count": 2,
   "metadata": {},
   "outputs": [
    {
     "data": {
      "text/html": [
       "<div>\n",
       "<style scoped>\n",
       "    .dataframe tbody tr th:only-of-type {\n",
       "        vertical-align: middle;\n",
       "    }\n",
       "\n",
       "    .dataframe tbody tr th {\n",
       "        vertical-align: top;\n",
       "    }\n",
       "\n",
       "    .dataframe thead th {\n",
       "        text-align: right;\n",
       "    }\n",
       "</style>\n",
       "<table border=\"1\" class=\"dataframe\">\n",
       "  <thead>\n",
       "    <tr style=\"text-align: right;\">\n",
       "      <th></th>\n",
       "      <th>total_bill</th>\n",
       "      <th>tip</th>\n",
       "      <th>sex</th>\n",
       "      <th>smoker</th>\n",
       "      <th>day</th>\n",
       "      <th>time</th>\n",
       "      <th>size</th>\n",
       "      <th>tip_pct</th>\n",
       "      <th>net_bill</th>\n",
       "    </tr>\n",
       "  </thead>\n",
       "  <tbody>\n",
       "    <tr>\n",
       "      <th>0</th>\n",
       "      <td>16.99</td>\n",
       "      <td>1.01</td>\n",
       "      <td>Female</td>\n",
       "      <td>No</td>\n",
       "      <td>Sun</td>\n",
       "      <td>Dinner</td>\n",
       "      <td>2</td>\n",
       "      <td>0.063204</td>\n",
       "      <td>15.98</td>\n",
       "    </tr>\n",
       "    <tr>\n",
       "      <th>1</th>\n",
       "      <td>10.34</td>\n",
       "      <td>1.66</td>\n",
       "      <td>Male</td>\n",
       "      <td>No</td>\n",
       "      <td>Sun</td>\n",
       "      <td>Dinner</td>\n",
       "      <td>3</td>\n",
       "      <td>0.191244</td>\n",
       "      <td>8.68</td>\n",
       "    </tr>\n",
       "    <tr>\n",
       "      <th>2</th>\n",
       "      <td>21.01</td>\n",
       "      <td>3.50</td>\n",
       "      <td>Male</td>\n",
       "      <td>No</td>\n",
       "      <td>Sun</td>\n",
       "      <td>Dinner</td>\n",
       "      <td>3</td>\n",
       "      <td>0.199886</td>\n",
       "      <td>17.51</td>\n",
       "    </tr>\n",
       "    <tr>\n",
       "      <th>3</th>\n",
       "      <td>23.68</td>\n",
       "      <td>3.31</td>\n",
       "      <td>Male</td>\n",
       "      <td>No</td>\n",
       "      <td>Sun</td>\n",
       "      <td>Dinner</td>\n",
       "      <td>2</td>\n",
       "      <td>0.162494</td>\n",
       "      <td>20.37</td>\n",
       "    </tr>\n",
       "    <tr>\n",
       "      <th>4</th>\n",
       "      <td>24.59</td>\n",
       "      <td>3.61</td>\n",
       "      <td>Female</td>\n",
       "      <td>No</td>\n",
       "      <td>Sun</td>\n",
       "      <td>Dinner</td>\n",
       "      <td>4</td>\n",
       "      <td>0.172069</td>\n",
       "      <td>20.98</td>\n",
       "    </tr>\n",
       "  </tbody>\n",
       "</table>\n",
       "</div>"
      ],
      "text/plain": [
       "   total_bill   tip     sex smoker  day    time  size   tip_pct  net_bill\n",
       "0       16.99  1.01  Female     No  Sun  Dinner     2  0.063204     15.98\n",
       "1       10.34  1.66    Male     No  Sun  Dinner     3  0.191244      8.68\n",
       "2       21.01  3.50    Male     No  Sun  Dinner     3  0.199886     17.51\n",
       "3       23.68  3.31    Male     No  Sun  Dinner     2  0.162494     20.37\n",
       "4       24.59  3.61  Female     No  Sun  Dinner     4  0.172069     20.98"
      ]
     },
     "execution_count": 2,
     "metadata": {},
     "output_type": "execute_result"
    }
   ],
   "source": [
    "tips = sns.load_dataset(\"tips\")\n",
    "tips['tip_pct'] = tips['tip'] / (tips['total_bill'] - tips['tip'])\n",
    "tips['net_bill'] = tips['total_bill'] - tips['tip']\n",
    "tips.head()"
   ]
  },
  {
   "cell_type": "code",
   "execution_count": 3,
   "metadata": {},
   "outputs": [
    {
     "data": {
      "text/html": [
       "<table class=\"simpletable\">\n",
       "<caption>OLS Regression Results</caption>\n",
       "<tr>\n",
       "  <th>Dep. Variable:</th>           <td>tip</td>       <th>  R-squared:         </th> <td>   0.333</td>\n",
       "</tr>\n",
       "<tr>\n",
       "  <th>Model:</th>                   <td>OLS</td>       <th>  Adj. R-squared:    </th> <td>   0.330</td>\n",
       "</tr>\n",
       "<tr>\n",
       "  <th>Method:</th>             <td>Least Squares</td>  <th>  F-statistic:       </th> <td>   120.6</td>\n",
       "</tr>\n",
       "<tr>\n",
       "  <th>Date:</th>             <td>Mon, 22 Jan 2024</td> <th>  Prob (F-statistic):</th> <td>5.02e-23</td>\n",
       "</tr>\n",
       "<tr>\n",
       "  <th>Time:</th>                 <td>19:29:23</td>     <th>  Log-Likelihood:    </th> <td> -375.63</td>\n",
       "</tr>\n",
       "<tr>\n",
       "  <th>No. Observations:</th>      <td>   244</td>      <th>  AIC:               </th> <td>   755.3</td>\n",
       "</tr>\n",
       "<tr>\n",
       "  <th>Df Residuals:</th>          <td>   242</td>      <th>  BIC:               </th> <td>   762.3</td>\n",
       "</tr>\n",
       "<tr>\n",
       "  <th>Df Model:</th>              <td>     1</td>      <th>                     </th>     <td> </td>   \n",
       "</tr>\n",
       "<tr>\n",
       "  <th>Covariance Type:</th>      <td>nonrobust</td>    <th>                     </th>     <td> </td>   \n",
       "</tr>\n",
       "</table>\n",
       "<table class=\"simpletable\">\n",
       "<tr>\n",
       "      <td></td>         <th>coef</th>     <th>std err</th>      <th>t</th>      <th>P>|t|</th>  <th>[0.025</th>    <th>0.975]</th>  \n",
       "</tr>\n",
       "<tr>\n",
       "  <th>Intercept</th> <td>    1.3307</td> <td>    0.168</td> <td>    7.907</td> <td> 0.000</td> <td>    0.999</td> <td>    1.662</td>\n",
       "</tr>\n",
       "<tr>\n",
       "  <th>net_bill</th>  <td>    0.0993</td> <td>    0.009</td> <td>   10.980</td> <td> 0.000</td> <td>    0.082</td> <td>    0.117</td>\n",
       "</tr>\n",
       "</table>\n",
       "<table class=\"simpletable\">\n",
       "<tr>\n",
       "  <th>Omnibus:</th>       <td>33.873</td> <th>  Durbin-Watson:     </th> <td>   2.123</td>\n",
       "</tr>\n",
       "<tr>\n",
       "  <th>Prob(Omnibus):</th> <td> 0.000</td> <th>  Jarque-Bera (JB):  </th> <td>  59.942</td>\n",
       "</tr>\n",
       "<tr>\n",
       "  <th>Skew:</th>          <td> 0.754</td> <th>  Prob(JB):          </th> <td>9.63e-14</td>\n",
       "</tr>\n",
       "<tr>\n",
       "  <th>Kurtosis:</th>      <td> 4.903</td> <th>  Cond. No.          </th> <td>    43.3</td>\n",
       "</tr>\n",
       "</table><br/><br/>Notes:<br/>[1] Standard Errors assume that the covariance matrix of the errors is correctly specified."
      ],
      "text/latex": [
       "\\begin{center}\n",
       "\\begin{tabular}{lclc}\n",
       "\\toprule\n",
       "\\textbf{Dep. Variable:}    &       tip        & \\textbf{  R-squared:         } &     0.333   \\\\\n",
       "\\textbf{Model:}            &       OLS        & \\textbf{  Adj. R-squared:    } &     0.330   \\\\\n",
       "\\textbf{Method:}           &  Least Squares   & \\textbf{  F-statistic:       } &     120.6   \\\\\n",
       "\\textbf{Date:}             & Mon, 22 Jan 2024 & \\textbf{  Prob (F-statistic):} &  5.02e-23   \\\\\n",
       "\\textbf{Time:}             &     19:29:23     & \\textbf{  Log-Likelihood:    } &   -375.63   \\\\\n",
       "\\textbf{No. Observations:} &         244      & \\textbf{  AIC:               } &     755.3   \\\\\n",
       "\\textbf{Df Residuals:}     &         242      & \\textbf{  BIC:               } &     762.3   \\\\\n",
       "\\textbf{Df Model:}         &           1      & \\textbf{                     } &             \\\\\n",
       "\\textbf{Covariance Type:}  &    nonrobust     & \\textbf{                     } &             \\\\\n",
       "\\bottomrule\n",
       "\\end{tabular}\n",
       "\\begin{tabular}{lcccccc}\n",
       "                   & \\textbf{coef} & \\textbf{std err} & \\textbf{t} & \\textbf{P$> |$t$|$} & \\textbf{[0.025} & \\textbf{0.975]}  \\\\\n",
       "\\midrule\n",
       "\\textbf{Intercept} &       1.3307  &        0.168     &     7.907  &         0.000        &        0.999    &        1.662     \\\\\n",
       "\\textbf{net\\_bill} &       0.0993  &        0.009     &    10.980  &         0.000        &        0.082    &        0.117     \\\\\n",
       "\\bottomrule\n",
       "\\end{tabular}\n",
       "\\begin{tabular}{lclc}\n",
       "\\textbf{Omnibus:}       & 33.873 & \\textbf{  Durbin-Watson:     } &    2.123  \\\\\n",
       "\\textbf{Prob(Omnibus):} &  0.000 & \\textbf{  Jarque-Bera (JB):  } &   59.942  \\\\\n",
       "\\textbf{Skew:}          &  0.754 & \\textbf{  Prob(JB):          } & 9.63e-14  \\\\\n",
       "\\textbf{Kurtosis:}      &  4.903 & \\textbf{  Cond. No.          } &     43.3  \\\\\n",
       "\\bottomrule\n",
       "\\end{tabular}\n",
       "%\\caption{OLS Regression Results}\n",
       "\\end{center}\n",
       "\n",
       "Notes: \\newline\n",
       " [1] Standard Errors assume that the covariance matrix of the errors is correctly specified."
      ],
      "text/plain": [
       "<class 'statsmodels.iolib.summary.Summary'>\n",
       "\"\"\"\n",
       "                            OLS Regression Results                            \n",
       "==============================================================================\n",
       "Dep. Variable:                    tip   R-squared:                       0.333\n",
       "Model:                            OLS   Adj. R-squared:                  0.330\n",
       "Method:                 Least Squares   F-statistic:                     120.6\n",
       "Date:                Mon, 22 Jan 2024   Prob (F-statistic):           5.02e-23\n",
       "Time:                        19:29:23   Log-Likelihood:                -375.63\n",
       "No. Observations:                 244   AIC:                             755.3\n",
       "Df Residuals:                     242   BIC:                             762.3\n",
       "Df Model:                           1                                         \n",
       "Covariance Type:            nonrobust                                         \n",
       "==============================================================================\n",
       "                 coef    std err          t      P>|t|      [0.025      0.975]\n",
       "------------------------------------------------------------------------------\n",
       "Intercept      1.3307      0.168      7.907      0.000       0.999       1.662\n",
       "net_bill       0.0993      0.009     10.980      0.000       0.082       0.117\n",
       "==============================================================================\n",
       "Omnibus:                       33.873   Durbin-Watson:                   2.123\n",
       "Prob(Omnibus):                  0.000   Jarque-Bera (JB):               59.942\n",
       "Skew:                           0.754   Prob(JB):                     9.63e-14\n",
       "Kurtosis:                       4.903   Cond. No.                         43.3\n",
       "==============================================================================\n",
       "\n",
       "Notes:\n",
       "[1] Standard Errors assume that the covariance matrix of the errors is correctly specified.\n",
       "\"\"\""
      ]
     },
     "execution_count": 3,
     "metadata": {},
     "output_type": "execute_result"
    }
   ],
   "source": [
    "reg = smf.ols('tip ~ net_bill', data = tips).fit()\n",
    "reg.summary()"
   ]
  },
  {
   "cell_type": "code",
   "execution_count": 6,
   "metadata": {},
   "outputs": [],
   "source": [
    "# Adicionando as colunas tip_pct e net_bill\n",
    "tips['tip_pct'] = tips['tip'] / (tips['total_bill'] - tips['tip'])\n",
    "tips['net_bill'] = tips['total_bill'] - tips['tip']"
   ]
  },
  {
   "cell_type": "code",
   "execution_count": 7,
   "metadata": {},
   "outputs": [],
   "source": [
    "# Ajustando o modelo de regressão de tip_pct por net_bill\n",
    "X = sm.add_constant(tips['net_bill'])\n",
    "y_tip_pct = tips['tip_pct']\n",
    "model_tip_pct = sm.OLS(y_tip_pct, X).fit()"
   ]
  },
  {
   "cell_type": "code",
   "execution_count": 8,
   "metadata": {},
   "outputs": [],
   "source": [
    "# Obtendo os valores preditos para tip_pct\n",
    "tips['pred_tip_pct'] = model_tip_pct.fittedvalues"
   ]
  },
  {
   "cell_type": "code",
   "execution_count": 9,
   "metadata": {},
   "outputs": [],
   "source": [
    "# Obtendo os valores preditos para tip\n",
    "tips['pred_tip'] = tips['pred_tip_pct'] * tips['net_bill']"
   ]
  },
  {
   "cell_type": "code",
   "execution_count": 10,
   "metadata": {},
   "outputs": [
    {
     "name": "stdout",
     "output_type": "stream",
     "text": [
      "R² para tip_pct: 0.09129084920662933\n"
     ]
    }
   ],
   "source": [
    "# Calculando o R² para o modelo de tip_pct\n",
    "r_squared_tip_pct = model_tip_pct.rsquared\n",
    "print(f\"R² para tip_pct: {r_squared_tip_pct}\")"
   ]
  },
  {
   "cell_type": "code",
   "execution_count": 11,
   "metadata": {},
   "outputs": [
    {
     "name": "stdout",
     "output_type": "stream",
     "text": [
      "R² para tip: 0.3325407312323705\n"
     ]
    }
   ],
   "source": [
    "# Calculando o R² para o modelo de tip\n",
    "X_tip = sm.add_constant(tips['pred_tip_pct'])\n",
    "y_tip = tips['tip']\n",
    "model_tip = sm.OLS(y_tip, X_tip).fit()\n",
    "r_squared_tip = model_tip.rsquared\n",
    "print(f\"R² para tip: {r_squared_tip}\")"
   ]
  },
  {
   "cell_type": "markdown",
   "metadata": {},
   "source": [
    "### 2. ajuste o modelo de ```tip_pct``` em função do logaritmo de ```net_bill```."
   ]
  },
  {
   "cell_type": "code",
   "execution_count": 12,
   "metadata": {},
   "outputs": [],
   "source": [
    "# Ajustando o modelo de regressão de tip_pct por log(net_bill)\n",
    "tips['log_net_bill'] = np.log(tips['net_bill'])\n",
    "X_log = sm.add_constant(tips['log_net_bill'])\n",
    "model_tip_pct_log = sm.OLS(y_tip_pct, X_log).fit()"
   ]
  },
  {
   "cell_type": "code",
   "execution_count": 13,
   "metadata": {},
   "outputs": [],
   "source": [
    "# Obtendo os valores preditos para tip_pct usando log(net_bill)\n",
    "tips['pred_tip_pct_log'] = model_tip_pct_log.fittedvalues"
   ]
  },
  {
   "cell_type": "code",
   "execution_count": 14,
   "metadata": {},
   "outputs": [
    {
     "name": "stdout",
     "output_type": "stream",
     "text": [
      "R² para tip_pct usando log(net_bill): 0.20172884237605493\n"
     ]
    }
   ],
   "source": [
    "# Calculando o R² para o modelo de tip_pct usando log(net_bill)\n",
    "r_squared_tip_pct_log = model_tip_pct_log.rsquared\n",
    "print(f\"R² para tip_pct usando log(net_bill): {r_squared_tip_pct_log}\")"
   ]
  },
  {
   "cell_type": "markdown",
   "metadata": {},
   "source": [
    "###  3. ajuste o modelo de ```tip_pct``` em função de um polinômio de segundo grau em ```net_bill```."
   ]
  },
  {
   "cell_type": "code",
   "execution_count": 15,
   "metadata": {},
   "outputs": [],
   "source": [
    "# Ajustando o modelo de regressão de tip_pct por um polinômio de segundo grau em net_bill\n",
    "tips['net_bill_squared'] = tips['net_bill'] ** 2\n",
    "X_poly = sm.add_constant(tips[['net_bill', 'net_bill_squared']])\n",
    "model_tip_pct_poly = sm.OLS(y_tip_pct, X_poly).fit()"
   ]
  },
  {
   "cell_type": "code",
   "execution_count": 16,
   "metadata": {},
   "outputs": [],
   "source": [
    "# Obtendo os valores preditos para tip_pct usando o polinômio de segundo grau\n",
    "tips['pred_tip_pct_poly'] = model_tip_pct_poly.fittedvalues"
   ]
  },
  {
   "cell_type": "code",
   "execution_count": 17,
   "metadata": {},
   "outputs": [
    {
     "name": "stdout",
     "output_type": "stream",
     "text": [
      "R² para tip_pct usando polinômio de segundo grau em net_bill: 0.15760784734296185\n"
     ]
    }
   ],
   "source": [
    "# Calculando o R² para o modelo de tip_pct usando o polinômio de segundo grau\n",
    "r_squared_tip_pct_poly = model_tip_pct_poly.rsquared\n",
    "print(f\"R² para tip_pct usando polinômio de segundo grau em net_bill: {r_squared_tip_pct_poly}\")"
   ]
  },
  {
   "cell_type": "code",
   "execution_count": null,
   "metadata": {},
   "outputs": [],
   "source": []
  },
  {
   "cell_type": "markdown",
   "metadata": {},
   "source": [
    "###  4. ajuste um modelo no log do ```tip_pct``` em função de ```net_bill```. Calcule o $R^2$ também em ```tip_pct```"
   ]
  },
  {
   "cell_type": "code",
   "execution_count": 18,
   "metadata": {},
   "outputs": [],
   "source": [
    "# Ajustando o modelo de regressão do logaritmo de tip_pct por net_bill\n",
    "model_log_tip_pct = sm.OLS(np.log(tips['tip_pct']), sm.add_constant(tips['net_bill'])).fit()"
   ]
  },
  {
   "cell_type": "code",
   "execution_count": 19,
   "metadata": {},
   "outputs": [],
   "source": [
    "# Obtendo os valores preditos para o logaritmo de tip_pct\n",
    "tips['pred_log_tip_pct'] = model_log_tip_pct.fittedvalues"
   ]
  },
  {
   "cell_type": "code",
   "execution_count": 20,
   "metadata": {},
   "outputs": [
    {
     "name": "stdout",
     "output_type": "stream",
     "text": [
      "R² para o logaritmo de tip_pct por net_bill: 0.23534487140864324\n"
     ]
    }
   ],
   "source": [
    "# Calculando o R² para o modelo do logaritmo de tip_pct por net_bill\n",
    "r_squared_log_tip_pct = model_log_tip_pct.rsquared\n",
    "print(f\"R² para o logaritmo de tip_pct por net_bill: {r_squared_log_tip_pct}\")"
   ]
  },
  {
   "cell_type": "code",
   "execution_count": null,
   "metadata": {},
   "outputs": [],
   "source": []
  },
  {
   "cell_type": "code",
   "execution_count": null,
   "metadata": {},
   "outputs": [],
   "source": []
  },
  {
   "cell_type": "markdown",
   "metadata": {},
   "source": [
    "###  5. ajuste um modelo no log do ```tip_pct``` em função do log de ```net_bill```. Calcule o $R^2$ também em ```tip_pct```."
   ]
  },
  {
   "cell_type": "code",
   "execution_count": 21,
   "metadata": {},
   "outputs": [],
   "source": [
    "# Ajustando o modelo de regressão do logaritmo de tip_pct por logaritmo de net_bill\n",
    "model_log_log_tip_pct = sm.OLS(np.log(tips['tip_pct']), sm.add_constant(np.log(tips['net_bill']))).fit()"
   ]
  },
  {
   "cell_type": "code",
   "execution_count": 22,
   "metadata": {},
   "outputs": [],
   "source": [
    "# Obtendo os valores preditos para o logaritmo de tip_pct\n",
    "tips['pred_log_log_tip_pct'] = model_log_log_tip_pct.fittedvalues"
   ]
  },
  {
   "cell_type": "code",
   "execution_count": 23,
   "metadata": {},
   "outputs": [
    {
     "name": "stdout",
     "output_type": "stream",
     "text": [
      "R² para o logaritmo de tip_pct por logaritmo de net_bill: 0.2934740215080778\n"
     ]
    }
   ],
   "source": [
    "# Calculando o R² para o modelo do logaritmo de tip_pct por logaritmo de net_bill\n",
    "r_squared_log_log_tip_pct = model_log_log_tip_pct.rsquared\n",
    "print(f\"R² para o logaritmo de tip_pct por logaritmo de net_bill: {r_squared_log_log_tip_pct}\")"
   ]
  },
  {
   "cell_type": "code",
   "execution_count": null,
   "metadata": {},
   "outputs": [],
   "source": []
  },
  {
   "cell_type": "code",
   "execution_count": null,
   "metadata": {},
   "outputs": [],
   "source": []
  },
  {
   "cell_type": "markdown",
   "metadata": {},
   "source": [
    "###  6. qual modelo resultou no melhor ajuste?"
   ]
  },
  {
   "cell_type": "markdown",
   "metadata": {},
   "source": [
    "No meu caso, o melhor modelo foi o ponto 5 com R**2 0.29."
   ]
  }
 ],
 "metadata": {
  "kernelspec": {
   "display_name": "Python 3 (ipykernel)",
   "language": "python",
   "name": "python3"
  },
  "language_info": {
   "codemirror_mode": {
    "name": "ipython",
    "version": 3
   },
   "file_extension": ".py",
   "mimetype": "text/x-python",
   "name": "python",
   "nbconvert_exporter": "python",
   "pygments_lexer": "ipython3",
   "version": "3.11.5"
  }
 },
 "nbformat": 4,
 "nbformat_minor": 4
}
