{
 "cells": [
  {
   "cell_type": "markdown",
   "metadata": {},
   "source": [
    "# EBAC - Regressão II - regressão múltipla\n",
    "\n",
    "## Tarefa I"
   ]
  },
  {
   "cell_type": "markdown",
   "metadata": {},
   "source": [
    "#### Previsão de renda\n",
    "\n",
    "Vamos trabalhar com a base 'previsao_de_renda.csv', que é a base do seu próximo projeto. Vamos usar os recursos que vimos até aqui nesta base.\n",
    "\n",
    "|variavel|descrição|\n",
    "|-|-|\n",
    "|data_ref                | Data de referência de coleta das variáveis |\n",
    "|index                   | Código de identificação do cliente|\n",
    "|sexo                    | Sexo do cliente|\n",
    "|posse_de_veiculo        | Indica se o cliente possui veículo|\n",
    "|posse_de_imovel         | Indica se o cliente possui imóvel|\n",
    "|qtd_filhos              | Quantidade de filhos do cliente|\n",
    "|tipo_renda              | Tipo de renda do cliente|\n",
    "|educacao                | Grau de instrução do cliente|\n",
    "|estado_civil            | Estado civil do cliente|\n",
    "|tipo_residencia         | Tipo de residência do cliente (própria, alugada etc)|\n",
    "|idade                   | Idade do cliente|\n",
    "|tempo_emprego           | Tempo no emprego atual|\n",
    "|qt_pessoas_residencia   | Quantidade de pessoas que moram na residência|\n",
    "|renda                   | Renda em reais|"
   ]
  },
  {
   "cell_type": "code",
   "execution_count": 1,
   "metadata": {},
   "outputs": [],
   "source": [
    "import pandas as pd"
   ]
  },
  {
   "cell_type": "code",
   "execution_count": 5,
   "metadata": {},
   "outputs": [],
   "source": [
    "data = pd.read_csv('previsao_de_renda.csv')"
   ]
  },
  {
   "cell_type": "code",
   "execution_count": 6,
   "metadata": {},
   "outputs": [
    {
     "name": "stdout",
     "output_type": "stream",
     "text": [
      "<class 'pandas.core.frame.DataFrame'>\n",
      "RangeIndex: 15000 entries, 0 to 14999\n",
      "Data columns (total 15 columns):\n",
      " #   Column                 Non-Null Count  Dtype  \n",
      "---  ------                 --------------  -----  \n",
      " 0   Unnamed: 0             15000 non-null  int64  \n",
      " 1   data_ref               15000 non-null  object \n",
      " 2   id_cliente             15000 non-null  int64  \n",
      " 3   sexo                   15000 non-null  object \n",
      " 4   posse_de_veiculo       15000 non-null  bool   \n",
      " 5   posse_de_imovel        15000 non-null  bool   \n",
      " 6   qtd_filhos             15000 non-null  int64  \n",
      " 7   tipo_renda             15000 non-null  object \n",
      " 8   educacao               15000 non-null  object \n",
      " 9   estado_civil           15000 non-null  object \n",
      " 10  tipo_residencia        15000 non-null  object \n",
      " 11  idade                  15000 non-null  int64  \n",
      " 12  tempo_emprego          12427 non-null  float64\n",
      " 13  qt_pessoas_residencia  15000 non-null  float64\n",
      " 14  renda                  15000 non-null  float64\n",
      "dtypes: bool(2), float64(3), int64(4), object(6)\n",
      "memory usage: 1.5+ MB\n"
     ]
    }
   ],
   "source": [
    "data.info()"
   ]
  },
  {
   "cell_type": "markdown",
   "metadata": {},
   "source": [
    "1. Ajuste um modelo para prever log(renda) considerando todas as covariáveis disponíveis.\n",
    "    - Utilizando os recursos do Patsy, coloque as variáveis qualitativas como *dummies*.\n",
    "    - Mantenha sempre a categoria mais frequente como casela de referência\n",
    "    - Avalie os parâmetros e veja se parecem fazer sentido prático.\n",
    "\n",
    "2. Remova a variável menos significante e analise:\n",
    "    - Observe os indicadores que vimos, e avalie se o modelo melhorou ou piorou na sua opinião.\n",
    "    - Observe os parâmetros e veja se algum se alterou muito.\n",
    "\n",
    "3. Siga removendo as variáveis menos significantes, sempre que o *p-value* for menor que 5%. Compare o modelo final com o inicial. Observe os indicadores e conclua se o modelo parece melhor. \n",
    "    "
   ]
  },
  {
   "cell_type": "markdown",
   "metadata": {},
   "source": [
    "# 1. Ajuste um modelo para prever log(renda) considerando todas as covariáveis disponíveis."
   ]
  },
  {
   "cell_type": "code",
   "execution_count": 10,
   "metadata": {},
   "outputs": [],
   "source": [
    "import numpy as np\n",
    "import statsmodels.api as sm\n",
    "import patsy"
   ]
  },
  {
   "cell_type": "code",
   "execution_count": 18,
   "metadata": {},
   "outputs": [],
   "source": [
    "# Crie a matriz de design\n",
    "y, X = patsy.dmatrices('np.log(renda) ~ sexo + posse_de_veiculo + posse_de_imovel + qtd_filhos + tipo_renda + educacao + estado_civil + tipo_residencia + idade + tempo_emprego + qt_pessoas_residencia', data=data, return_type='dataframe')"
   ]
  },
  {
   "cell_type": "code",
   "execution_count": 19,
   "metadata": {},
   "outputs": [],
   "source": [
    "# Ajuste o modelo\n",
    "model = sm.OLS(y, X)\n",
    "result = model.fit()"
   ]
  },
  {
   "cell_type": "code",
   "execution_count": 20,
   "metadata": {
    "scrolled": true
   },
   "outputs": [
    {
     "name": "stdout",
     "output_type": "stream",
     "text": [
      "                            OLS Regression Results                            \n",
      "==============================================================================\n",
      "Dep. Variable:          np.log(renda)   R-squared:                       0.357\n",
      "Model:                            OLS   Adj. R-squared:                  0.356\n",
      "Method:                 Least Squares   F-statistic:                     287.5\n",
      "Date:                Fri, 16 Feb 2024   Prob (F-statistic):               0.00\n",
      "Time:                        10:37:30   Log-Likelihood:                -13568.\n",
      "No. Observations:               12427   AIC:                         2.719e+04\n",
      "Df Residuals:                   12402   BIC:                         2.737e+04\n",
      "Df Model:                          24                                         \n",
      "Covariance Type:            nonrobust                                         \n",
      "====================================================================================================\n",
      "                                       coef    std err          t      P>|t|      [0.025      0.975]\n",
      "----------------------------------------------------------------------------------------------------\n",
      "Intercept                            6.5847      0.235     28.006      0.000       6.124       7.046\n",
      "sexo[T.M]                            0.7874      0.015     53.723      0.000       0.759       0.816\n",
      "posse_de_veiculo[T.True]             0.0441      0.014      3.119      0.002       0.016       0.072\n",
      "posse_de_imovel[T.True]              0.0829      0.014      5.926      0.000       0.055       0.110\n",
      "tipo_renda[T.Bolsista]               0.2209      0.241      0.916      0.360      -0.252       0.694\n",
      "tipo_renda[T.Empresário]             0.1551      0.015     10.387      0.000       0.126       0.184\n",
      "tipo_renda[T.Pensionista]           -0.3087      0.241     -1.280      0.201      -0.782       0.164\n",
      "tipo_renda[T.Servidor público]       0.0576      0.022      2.591      0.010       0.014       0.101\n",
      "educacao[T.Pós graduação]            0.1071      0.159      0.673      0.501      -0.205       0.419\n",
      "educacao[T.Secundário]              -0.0141      0.072     -0.196      0.844      -0.155       0.127\n",
      "educacao[T.Superior completo]        0.0938      0.072      1.298      0.194      -0.048       0.235\n",
      "educacao[T.Superior incompleto]     -0.0432      0.078     -0.555      0.579      -0.196       0.109\n",
      "estado_civil[T.Separado]             0.3265      0.111      2.935      0.003       0.108       0.545\n",
      "estado_civil[T.Solteiro]             0.2672      0.109      2.453      0.014       0.054       0.481\n",
      "estado_civil[T.União]               -0.0343      0.025     -1.361      0.174      -0.084       0.015\n",
      "estado_civil[T.Viúvo]                0.3689      0.116      3.191      0.001       0.142       0.596\n",
      "tipo_residencia[T.Casa]             -0.0442      0.054     -0.815      0.415      -0.150       0.062\n",
      "tipo_residencia[T.Com os pais]      -0.0258      0.060     -0.427      0.670      -0.144       0.093\n",
      "tipo_residencia[T.Comunitário]      -0.1196      0.105     -1.135      0.256      -0.326       0.087\n",
      "tipo_residencia[T.Estúdio]           0.0665      0.099      0.670      0.503      -0.128       0.261\n",
      "tipo_residencia[T.Governamental]    -0.0571      0.066     -0.865      0.387      -0.186       0.072\n",
      "qtd_filhos                          -0.2658      0.108     -2.463      0.014      -0.477      -0.054\n",
      "idade                                0.0053      0.001      6.624      0.000       0.004       0.007\n",
      "tempo_emprego                        0.0617      0.001     59.398      0.000       0.060       0.064\n",
      "qt_pessoas_residencia                0.2926      0.108      2.716      0.007       0.081       0.504\n",
      "==============================================================================\n",
      "Omnibus:                        0.858   Durbin-Watson:                   2.023\n",
      "Prob(Omnibus):                  0.651   Jarque-Bera (JB):                0.839\n",
      "Skew:                           0.019   Prob(JB):                        0.657\n",
      "Kurtosis:                       3.012   Cond. No.                     2.18e+03\n",
      "==============================================================================\n",
      "\n",
      "Notes:\n",
      "[1] Standard Errors assume that the covariance matrix of the errors is correctly specified.\n",
      "[2] The condition number is large, 2.18e+03. This might indicate that there are\n",
      "strong multicollinearity or other numerical problems.\n"
     ]
    }
   ],
   "source": [
    "# Visualize os resultados\n",
    "print(result.summary())"
   ]
  },
  {
   "cell_type": "markdown",
   "metadata": {},
   "source": [
    "Faz sentido, sim. Posse de veiculo, imovel, idade e tempo de emprego eh estadisticamente significativo"
   ]
  },
  {
   "cell_type": "markdown",
   "metadata": {},
   "source": [
    "# 2. Remova a variável menos significante e analise:"
   ]
  },
  {
   "cell_type": "code",
   "execution_count": 32,
   "metadata": {},
   "outputs": [],
   "source": [
    "# Encontre o p-valor mais alto\n",
    "max_p_value = result.pvalues.idxmax()"
   ]
  },
  {
   "cell_type": "code",
   "execution_count": 33,
   "metadata": {},
   "outputs": [],
   "source": [
    "# Remova a variável correspondente\n",
    "X = X.drop(columns=[max_p_value])"
   ]
  },
  {
   "cell_type": "code",
   "execution_count": 34,
   "metadata": {},
   "outputs": [],
   "source": [
    "# Ajuste o modelo novamente\n",
    "model = sm.OLS(y, X)\n",
    "result = model.fit()"
   ]
  },
  {
   "cell_type": "code",
   "execution_count": 35,
   "metadata": {},
   "outputs": [
    {
     "name": "stdout",
     "output_type": "stream",
     "text": [
      "                            OLS Regression Results                            \n",
      "==============================================================================\n",
      "Dep. Variable:          np.log(renda)   R-squared:                       0.357\n",
      "Model:                            OLS   Adj. R-squared:                  0.356\n",
      "Method:                 Least Squares   F-statistic:                     313.7\n",
      "Date:                Fri, 16 Feb 2024   Prob (F-statistic):               0.00\n",
      "Time:                        10:44:37   Log-Likelihood:                -13568.\n",
      "No. Observations:               12427   AIC:                         2.718e+04\n",
      "Df Residuals:                   12404   BIC:                         2.735e+04\n",
      "Df Model:                          22                                         \n",
      "Covariance Type:            nonrobust                                         \n",
      "====================================================================================================\n",
      "                                       coef    std err          t      P>|t|      [0.025      0.975]\n",
      "----------------------------------------------------------------------------------------------------\n",
      "Intercept                            6.5506      0.219     29.863      0.000       6.121       6.981\n",
      "sexo[T.M]                            0.7877      0.015     53.788      0.000       0.759       0.816\n",
      "posse_de_veiculo[T.True]             0.0441      0.014      3.117      0.002       0.016       0.072\n",
      "posse_de_imovel[T.True]              0.0832      0.014      5.953      0.000       0.056       0.111\n",
      "tipo_renda[T.Bolsista]               0.2209      0.241      0.916      0.360      -0.252       0.694\n",
      "tipo_renda[T.Empresário]             0.1552      0.015     10.397      0.000       0.126       0.184\n",
      "tipo_renda[T.Pensionista]           -0.3088      0.241     -1.280      0.201      -0.782       0.164\n",
      "tipo_renda[T.Servidor público]       0.0575      0.022      2.589      0.010       0.014       0.101\n",
      "educacao[T.Pós graduação]            0.1209      0.142      0.850      0.395      -0.158       0.399\n",
      "educacao[T.Superior completo]        0.1076      0.014      7.766      0.000       0.080       0.135\n",
      "educacao[T.Superior incompleto]     -0.0292      0.032     -0.907      0.364      -0.092       0.034\n",
      "estado_civil[T.Separado]             0.3262      0.111      2.933      0.003       0.108       0.544\n",
      "estado_civil[T.Solteiro]             0.2673      0.109      2.455      0.014       0.054       0.481\n",
      "estado_civil[T.União]               -0.0342      0.025     -1.360      0.174      -0.084       0.015\n",
      "estado_civil[T.Viúvo]                0.3693      0.116      3.194      0.001       0.143       0.596\n",
      "tipo_residencia[T.Casa]             -0.0241      0.026     -0.912      0.362      -0.076       0.028\n",
      "tipo_residencia[T.Comunitário]      -0.0982      0.094     -1.046      0.296      -0.282       0.086\n",
      "tipo_residencia[T.Estúdio]           0.0865      0.087      0.990      0.322      -0.085       0.258\n",
      "tipo_residencia[T.Governamental]    -0.0367      0.046     -0.801      0.423      -0.127       0.053\n",
      "qtd_filhos                          -0.2658      0.108     -2.463      0.014      -0.477      -0.054\n",
      "idade                                0.0053      0.001      6.633      0.000       0.004       0.007\n",
      "tempo_emprego                        0.0617      0.001     59.400      0.000       0.060       0.064\n",
      "qt_pessoas_residencia                0.2925      0.108      2.715      0.007       0.081       0.504\n",
      "==============================================================================\n",
      "Omnibus:                        0.876   Durbin-Watson:                   2.023\n",
      "Prob(Omnibus):                  0.645   Jarque-Bera (JB):                0.858\n",
      "Skew:                           0.020   Prob(JB):                        0.651\n",
      "Kurtosis:                       3.012   Cond. No.                     2.14e+03\n",
      "==============================================================================\n",
      "\n",
      "Notes:\n",
      "[1] Standard Errors assume that the covariance matrix of the errors is correctly specified.\n",
      "[2] The condition number is large, 2.14e+03. This might indicate that there are\n",
      "strong multicollinearity or other numerical problems.\n"
     ]
    }
   ],
   "source": [
    "# Visualize os resultados atualizados\n",
    "print(result.summary())"
   ]
  },
  {
   "cell_type": "code",
   "execution_count": null,
   "metadata": {},
   "outputs": [],
   "source": [
    "Nao mudou quase nada. Nenhum parametro mudou muito. "
   ]
  },
  {
   "cell_type": "markdown",
   "metadata": {},
   "source": [
    "# 3. Siga removendo as variáveis menos significantes, sempre que o p-value for menor que 5%. Compare o modelo final com o inicial. Observe os indicadores e conclua se o modelo parece melhor."
   ]
  },
  {
   "cell_type": "code",
   "execution_count": 41,
   "metadata": {},
   "outputs": [
    {
     "name": "stdout",
     "output_type": "stream",
     "text": [
      "                            OLS Regression Results                            \n",
      "==============================================================================\n",
      "Dep. Variable:          np.log(renda)   R-squared:                       0.357\n",
      "Model:                            OLS   Adj. R-squared:                  0.356\n",
      "Method:                 Least Squares   F-statistic:                     530.1\n",
      "Date:                Fri, 16 Feb 2024   Prob (F-statistic):               0.00\n",
      "Time:                        10:50:58   Log-Likelihood:                -13572.\n",
      "No. Observations:               12427   AIC:                         2.717e+04\n",
      "Df Residuals:                   12413   BIC:                         2.728e+04\n",
      "Df Model:                          13                                         \n",
      "Covariance Type:            nonrobust                                         \n",
      "==================================================================================================\n",
      "                                     coef    std err          t      P>|t|      [0.025      0.975]\n",
      "--------------------------------------------------------------------------------------------------\n",
      "Intercept                          6.5154      0.218     29.853      0.000       6.088       6.943\n",
      "sexo[T.M]                          0.7897      0.015     54.092      0.000       0.761       0.818\n",
      "posse_de_veiculo[T.True]           0.0455      0.014      3.230      0.001       0.018       0.073\n",
      "posse_de_imovel[T.True]            0.0833      0.014      6.077      0.000       0.056       0.110\n",
      "tipo_renda[T.Empresário]           0.1550      0.015     10.413      0.000       0.126       0.184\n",
      "tipo_renda[T.Servidor público]     0.0591      0.022      2.661      0.008       0.016       0.103\n",
      "educacao[T.Superior completo]      0.1096      0.014      8.078      0.000       0.083       0.136\n",
      "estado_civil[T.Separado]           0.3313      0.111      2.979      0.003       0.113       0.549\n",
      "estado_civil[T.Solteiro]           0.2709      0.109      2.489      0.013       0.058       0.484\n",
      "estado_civil[T.Viúvo]              0.3713      0.116      3.213      0.001       0.145       0.598\n",
      "qtd_filhos                        -0.2657      0.108     -2.462      0.014      -0.477      -0.054\n",
      "idade                              0.0054      0.001      6.939      0.000       0.004       0.007\n",
      "tempo_emprego                      0.0617      0.001     59.468      0.000       0.060       0.064\n",
      "qt_pessoas_residencia              0.2931      0.108      2.721      0.007       0.082       0.504\n",
      "==============================================================================\n",
      "Omnibus:                        0.824   Durbin-Watson:                   2.023\n",
      "Prob(Omnibus):                  0.662   Jarque-Bera (JB):                0.808\n",
      "Skew:                           0.019   Prob(JB):                        0.668\n",
      "Kurtosis:                       3.010   Cond. No.                     2.13e+03\n",
      "==============================================================================\n",
      "\n",
      "Notes:\n",
      "[1] Standard Errors assume that the covariance matrix of the errors is correctly specified.\n",
      "[2] The condition number is large, 2.13e+03. This might indicate that there are\n",
      "strong multicollinearity or other numerical problems.\n"
     ]
    }
   ],
   "source": [
    "# Limiar de significância\n",
    "significance_threshold = 0.05\n",
    "\n",
    "while True:\n",
    "    # Ajustar o modelo\n",
    "    model = sm.OLS(y, X)\n",
    "    result = model.fit()\n",
    "    \n",
    "    # Encontrar a primeira variável com p-valor maior que o limiar de significância\n",
    "    max_p_value = result.pvalues.max()\n",
    "    \n",
    "    # Se todos os p-valores forem menores que o limiar de significância, saia do loop\n",
    "    if max_p_value < significance_threshold:\n",
    "        break\n",
    "        \n",
    "    # Encontrar a variável correspondente ao primeiro p-valor maior que o limiar de significância\n",
    "    variable_to_remove = result.pvalues[result.pvalues == max_p_value].index[0]\n",
    "    \n",
    "    # Remover a variável menos significativa\n",
    "    X = X.drop(columns=[variable_to_remove])\n",
    "    \n",
    "# Visualize os resultados atualizados\n",
    "print(result.summary())"
   ]
  },
  {
   "cell_type": "markdown",
   "metadata": {},
   "source": [
    "O R-square e Adj contunia igual, porem agora visualmente eh mas limpo e facil pra escolher as variaveis com maior significancia"
   ]
  }
 ],
 "metadata": {
  "kernelspec": {
   "display_name": "Python 3 (ipykernel)",
   "language": "python",
   "name": "python3"
  },
  "language_info": {
   "codemirror_mode": {
    "name": "ipython",
    "version": 3
   },
   "file_extension": ".py",
   "mimetype": "text/x-python",
   "name": "python",
   "nbconvert_exporter": "python",
   "pygments_lexer": "ipython3",
   "version": "3.11.5"
  }
 },
 "nbformat": 4,
 "nbformat_minor": 4
}
