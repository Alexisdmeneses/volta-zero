{
 "cells": [
  {
   "cell_type": "markdown",
   "metadata": {},
   "source": [
    "# Módulo 07, Tarefa 01\n",
    "\n",
    "Vamos começar a mexer na nossa base de projeto? Já fizemos um exercício de montar a variável resposta, já pudemos perceber que essa atividade pode não ser trivial. Vamos agora trabalhar a base para que fique propícia ao *scikitlearn* para trabalharmos.\n",
    "\n",
    "Lembrando, a base se chama demo01.csv, e originalmente está publicada [aqui](https://www.kaggle.com/rikdifos/credit-card-approval-prediction)."
   ]
  },
  {
   "cell_type": "markdown",
   "metadata": {},
   "source": [
    "#### 1) Carregue a base e avalie:\n",
    "\n",
    "- As variáveis\n",
    "- Tipos de dados de cada variável\n",
    "- Quantidade de missings\n",
    "- Distribuição da variável resposta (mau)"
   ]
  },
  {
   "cell_type": "code",
   "execution_count": 1,
   "metadata": {},
   "outputs": [],
   "source": [
    "import pandas as pd\n",
    "import matplotlib.pyplot as plt\n",
    "import seaborn as sns"
   ]
  },
  {
   "cell_type": "code",
   "execution_count": 3,
   "metadata": {},
   "outputs": [],
   "source": [
    "# Carregar a base de dados\n",
    "dados_demo = pd.read_csv('demo01.csv')"
   ]
  },
  {
   "cell_type": "code",
   "execution_count": 4,
   "metadata": {
    "scrolled": true
   },
   "outputs": [
    {
     "data": {
      "text/plain": [
       "<bound method DataFrame.info of       sexo posse_de_veiculo posse_de_imovel  qtd_filhos            tipo_renda  \\\n",
       "0        M                Y               Y           0               Working   \n",
       "1        F                N               Y           0  Commercial associate   \n",
       "2        F                N               Y           0  Commercial associate   \n",
       "3        M                Y               Y           0               Working   \n",
       "4        F                Y               N           0               Working   \n",
       "...    ...              ...             ...         ...                   ...   \n",
       "16645    F                N               Y           0               Working   \n",
       "16646    F                N               Y           0  Commercial associate   \n",
       "16647    M                Y               Y           0               Working   \n",
       "16648    M                Y               Y           0               Working   \n",
       "16649    F                N               Y           0             Pensioner   \n",
       "\n",
       "                            educacao          estado_civil    tipo_residencia  \\\n",
       "0      Secondary / secondary special               Married  House / apartment   \n",
       "1      Secondary / secondary special  Single / not married  House / apartment   \n",
       "2      Secondary / secondary special  Single / not married  House / apartment   \n",
       "3                   Higher education               Married  House / apartment   \n",
       "4                  Incomplete higher               Married  House / apartment   \n",
       "...                              ...                   ...                ...   \n",
       "16645  Secondary / secondary special        Civil marriage  House / apartment   \n",
       "16646  Secondary / secondary special               Married  House / apartment   \n",
       "16647  Secondary / secondary special               Married  House / apartment   \n",
       "16648  Secondary / secondary special               Married  House / apartment   \n",
       "16649               Higher education               Married  House / apartment   \n",
       "\n",
       "           idade  tempo_emprego  possui_celular  possui_fone_comercial  \\\n",
       "0      58.832877       3.106849               1                      0   \n",
       "1      52.356164       8.358904               1                      0   \n",
       "2      52.356164       8.358904               1                      0   \n",
       "3      46.224658       2.106849               1                      1   \n",
       "4      29.230137       3.021918               1                      0   \n",
       "...          ...            ...             ...                    ...   \n",
       "16645  54.109589       9.884932               1                      0   \n",
       "16646  43.389041       7.380822               1                      1   \n",
       "16647  30.005479       9.800000               1                      1   \n",
       "16648  30.005479       9.800000               1                      1   \n",
       "16649  33.936986       3.630137               1                      0   \n",
       "\n",
       "       possui_fone  possui_email  qt_pessoas_residencia    mau  \n",
       "0                0             0                    2.0  False  \n",
       "1                1             1                    1.0  False  \n",
       "2                1             1                    1.0  False  \n",
       "3                1             1                    2.0  False  \n",
       "4                0             0                    2.0  False  \n",
       "...            ...           ...                    ...    ...  \n",
       "16645            0             0                    2.0   True  \n",
       "16646            1             0                    2.0   True  \n",
       "16647            0             0                    2.0   True  \n",
       "16648            0             0                    2.0   True  \n",
       "16649            1             1                    2.0   True  \n",
       "\n",
       "[16650 rows x 16 columns]>"
      ]
     },
     "execution_count": 4,
     "metadata": {},
     "output_type": "execute_result"
    }
   ],
   "source": [
    "dados_demo.info"
   ]
  },
  {
   "cell_type": "code",
   "execution_count": 5,
   "metadata": {
    "scrolled": true
   },
   "outputs": [
    {
     "data": {
      "text/html": [
       "<div>\n",
       "<style scoped>\n",
       "    .dataframe tbody tr th:only-of-type {\n",
       "        vertical-align: middle;\n",
       "    }\n",
       "\n",
       "    .dataframe tbody tr th {\n",
       "        vertical-align: top;\n",
       "    }\n",
       "\n",
       "    .dataframe thead th {\n",
       "        text-align: right;\n",
       "    }\n",
       "</style>\n",
       "<table border=\"1\" class=\"dataframe\">\n",
       "  <thead>\n",
       "    <tr style=\"text-align: right;\">\n",
       "      <th></th>\n",
       "      <th>qtd_filhos</th>\n",
       "      <th>idade</th>\n",
       "      <th>tempo_emprego</th>\n",
       "      <th>possui_celular</th>\n",
       "      <th>possui_fone_comercial</th>\n",
       "      <th>possui_fone</th>\n",
       "      <th>possui_email</th>\n",
       "      <th>qt_pessoas_residencia</th>\n",
       "    </tr>\n",
       "  </thead>\n",
       "  <tbody>\n",
       "    <tr>\n",
       "      <th>count</th>\n",
       "      <td>16650.000000</td>\n",
       "      <td>16650.000000</td>\n",
       "      <td>16650.000000</td>\n",
       "      <td>16650.0</td>\n",
       "      <td>16650.000000</td>\n",
       "      <td>16650.000000</td>\n",
       "      <td>16650.000000</td>\n",
       "      <td>16650.000000</td>\n",
       "    </tr>\n",
       "    <tr>\n",
       "      <th>mean</th>\n",
       "      <td>0.433153</td>\n",
       "      <td>44.319513</td>\n",
       "      <td>-161.416446</td>\n",
       "      <td>1.0</td>\n",
       "      <td>0.225225</td>\n",
       "      <td>0.295676</td>\n",
       "      <td>0.088889</td>\n",
       "      <td>2.211892</td>\n",
       "    </tr>\n",
       "    <tr>\n",
       "      <th>std</th>\n",
       "      <td>0.739395</td>\n",
       "      <td>11.228837</td>\n",
       "      <td>376.843912</td>\n",
       "      <td>0.0</td>\n",
       "      <td>0.417743</td>\n",
       "      <td>0.456360</td>\n",
       "      <td>0.284592</td>\n",
       "      <td>0.903755</td>\n",
       "    </tr>\n",
       "    <tr>\n",
       "      <th>min</th>\n",
       "      <td>0.000000</td>\n",
       "      <td>22.030137</td>\n",
       "      <td>-1000.665753</td>\n",
       "      <td>1.0</td>\n",
       "      <td>0.000000</td>\n",
       "      <td>0.000000</td>\n",
       "      <td>0.000000</td>\n",
       "      <td>1.000000</td>\n",
       "    </tr>\n",
       "    <tr>\n",
       "      <th>25%</th>\n",
       "      <td>0.000000</td>\n",
       "      <td>34.873973</td>\n",
       "      <td>1.183562</td>\n",
       "      <td>1.0</td>\n",
       "      <td>0.000000</td>\n",
       "      <td>0.000000</td>\n",
       "      <td>0.000000</td>\n",
       "      <td>2.000000</td>\n",
       "    </tr>\n",
       "    <tr>\n",
       "      <th>50%</th>\n",
       "      <td>0.000000</td>\n",
       "      <td>43.493151</td>\n",
       "      <td>4.691781</td>\n",
       "      <td>1.0</td>\n",
       "      <td>0.000000</td>\n",
       "      <td>0.000000</td>\n",
       "      <td>0.000000</td>\n",
       "      <td>2.000000</td>\n",
       "    </tr>\n",
       "    <tr>\n",
       "      <th>75%</th>\n",
       "      <td>1.000000</td>\n",
       "      <td>53.410959</td>\n",
       "      <td>9.088356</td>\n",
       "      <td>1.0</td>\n",
       "      <td>0.000000</td>\n",
       "      <td>1.000000</td>\n",
       "      <td>0.000000</td>\n",
       "      <td>3.000000</td>\n",
       "    </tr>\n",
       "    <tr>\n",
       "      <th>max</th>\n",
       "      <td>14.000000</td>\n",
       "      <td>68.909589</td>\n",
       "      <td>42.906849</td>\n",
       "      <td>1.0</td>\n",
       "      <td>1.000000</td>\n",
       "      <td>1.000000</td>\n",
       "      <td>1.000000</td>\n",
       "      <td>15.000000</td>\n",
       "    </tr>\n",
       "  </tbody>\n",
       "</table>\n",
       "</div>"
      ],
      "text/plain": [
       "         qtd_filhos         idade  tempo_emprego  possui_celular  \\\n",
       "count  16650.000000  16650.000000   16650.000000         16650.0   \n",
       "mean       0.433153     44.319513    -161.416446             1.0   \n",
       "std        0.739395     11.228837     376.843912             0.0   \n",
       "min        0.000000     22.030137   -1000.665753             1.0   \n",
       "25%        0.000000     34.873973       1.183562             1.0   \n",
       "50%        0.000000     43.493151       4.691781             1.0   \n",
       "75%        1.000000     53.410959       9.088356             1.0   \n",
       "max       14.000000     68.909589      42.906849             1.0   \n",
       "\n",
       "       possui_fone_comercial   possui_fone  possui_email  \\\n",
       "count           16650.000000  16650.000000  16650.000000   \n",
       "mean                0.225225      0.295676      0.088889   \n",
       "std                 0.417743      0.456360      0.284592   \n",
       "min                 0.000000      0.000000      0.000000   \n",
       "25%                 0.000000      0.000000      0.000000   \n",
       "50%                 0.000000      0.000000      0.000000   \n",
       "75%                 0.000000      1.000000      0.000000   \n",
       "max                 1.000000      1.000000      1.000000   \n",
       "\n",
       "       qt_pessoas_residencia  \n",
       "count           16650.000000  \n",
       "mean                2.211892  \n",
       "std                 0.903755  \n",
       "min                 1.000000  \n",
       "25%                 2.000000  \n",
       "50%                 2.000000  \n",
       "75%                 3.000000  \n",
       "max                15.000000  "
      ]
     },
     "execution_count": 5,
     "metadata": {},
     "output_type": "execute_result"
    }
   ],
   "source": [
    "dados_demo.describe()"
   ]
  },
  {
   "cell_type": "code",
   "execution_count": 6,
   "metadata": {
    "scrolled": false
   },
   "outputs": [
    {
     "data": {
      "text/plain": [
       "sexo                      object\n",
       "posse_de_veiculo          object\n",
       "posse_de_imovel           object\n",
       "qtd_filhos                 int64\n",
       "tipo_renda                object\n",
       "educacao                  object\n",
       "estado_civil              object\n",
       "tipo_residencia           object\n",
       "idade                    float64\n",
       "tempo_emprego            float64\n",
       "possui_celular             int64\n",
       "possui_fone_comercial      int64\n",
       "possui_fone                int64\n",
       "possui_email               int64\n",
       "qt_pessoas_residencia    float64\n",
       "mau                         bool\n",
       "dtype: object"
      ]
     },
     "execution_count": 6,
     "metadata": {},
     "output_type": "execute_result"
    }
   ],
   "source": [
    "dados_demo.dtypes"
   ]
  },
  {
   "cell_type": "code",
   "execution_count": 7,
   "metadata": {
    "scrolled": true
   },
   "outputs": [
    {
     "name": "stdout",
     "output_type": "stream",
     "text": [
      "Número de valores ausentes por variável:\n",
      "sexo                     0\n",
      "posse_de_veiculo         0\n",
      "posse_de_imovel          0\n",
      "qtd_filhos               0\n",
      "tipo_renda               0\n",
      "educacao                 0\n",
      "estado_civil             0\n",
      "tipo_residencia          0\n",
      "idade                    0\n",
      "tempo_emprego            0\n",
      "possui_celular           0\n",
      "possui_fone_comercial    0\n",
      "possui_fone              0\n",
      "possui_email             0\n",
      "qt_pessoas_residencia    0\n",
      "mau                      0\n",
      "dtype: int64\n"
     ]
    }
   ],
   "source": [
    "# Calcular a quantidade de valores ausentes por variável\n",
    "valores_ausentes_por_variavel = dados_demo.isnull().sum()\n",
    "\n",
    "# Exibir os resultados\n",
    "print(\"Número de valores ausentes por variável:\")\n",
    "print(valores_ausentes_por_variavel)"
   ]
  },
  {
   "cell_type": "code",
   "execution_count": 9,
   "metadata": {},
   "outputs": [
    {
     "data": {
      "image/png": "[encoded data removed]",
      "text/plain": [
       "<Figure size 640x480 with 1 Axes>"
      ]
     },
     "metadata": {},
     "output_type": "display_data"
    }
   ],
   "source": [
    "# Criar gráfico de contagem para variável booleana \"mau\"\n",
    "sns.countplot(x='mau', data=dados_demo)\n",
    "\n",
    "# Adicionar rótulos e título\n",
    "plt.title('Distribuição da variável resposta \"mau\"')\n",
    "plt.xlabel('Mau')\n",
    "plt.ylabel('Contagem')\n",
    "\n",
    "# Mostrar o gráfico\n",
    "plt.show()"
   ]
  },
  {
   "cell_type": "markdown",
   "metadata": {},
   "source": [
    "#### 2) Vamos montar um metadados\n",
    "\n",
    "1. Crie um dataframe com os nomes de cada variável e o tipo de dados de cada variável.\n",
    "2. Adicione uma coluna nesse *dataframe* chamada \"qtd_categorias\" e coloque nela o número de categorias correspondente de cada variável. \n",
    "    Dica: \n",
    "        1. inicie uma lista vazia\n",
    "        2. faça um for ao longo dos nomes das variáveis, \n",
    "        3. conte o número de categorias dessa variável \n",
    "        4. acumule essa informação de 3. na lista que você criou em 1. \n",
    "        5. No final, essa lista pode ser atribuída à nossa variável.\n",
    "3. Crie variáveis dummy para as variáveis necessárias (i.e. aquelas que são qualitativas e não estão armazenadas como {0, 1} ou {True, False}."
   ]
  },
  {
   "cell_type": "code",
   "execution_count": 10,
   "metadata": {},
   "outputs": [
    {
     "name": "stdout",
     "output_type": "stream",
     "text": [
      "                 Variável Tipo de Dados\n",
      "0                    sexo        object\n",
      "1        posse_de_veiculo        object\n",
      "2         posse_de_imovel        object\n",
      "3              qtd_filhos         int64\n",
      "4              tipo_renda        object\n",
      "5                educacao        object\n",
      "6            estado_civil        object\n",
      "7         tipo_residencia        object\n",
      "8                   idade       float64\n",
      "9           tempo_emprego       float64\n",
      "10         possui_celular         int64\n",
      "11  possui_fone_comercial         int64\n",
      "12            possui_fone         int64\n",
      "13           possui_email         int64\n",
      "14  qt_pessoas_residencia       float64\n",
      "15                    mau          bool\n"
     ]
    }
   ],
   "source": [
    "## 1)\n",
    "# Criar um dicionário com os nomes das variáveis e seus tipos de dados\n",
    "variaveis = list(dados_demo.columns)\n",
    "tipos_dados = [str(dados_demo[var].dtype) for var in variaveis]\n",
    "\n",
    "# Criar um DataFrame\n",
    "info_variaveis = pd.DataFrame({\n",
    "    'Variável': variaveis,\n",
    "    'Tipo de Dados': tipos_dados\n",
    "})\n",
    "\n",
    "# Exibir o DataFrame\n",
    "print(info_variaveis)"
   ]
  },
  {
   "cell_type": "code",
   "execution_count": 13,
   "metadata": {},
   "outputs": [
    {
     "name": "stdout",
     "output_type": "stream",
     "text": [
      "                 Variável Tipo de Dados  qtd_categorias\n",
      "0                    sexo        object               2\n",
      "1        posse_de_veiculo        object               2\n",
      "2         posse_de_imovel        object               2\n",
      "3              qtd_filhos         int64               8\n",
      "4              tipo_renda        object               5\n",
      "5                educacao        object               5\n",
      "6            estado_civil        object               5\n",
      "7         tipo_residencia        object               6\n",
      "8                   idade       float64            5298\n",
      "9           tempo_emprego       float64            3005\n",
      "10         possui_celular         int64               1\n",
      "11  possui_fone_comercial         int64               2\n",
      "12            possui_fone         int64               2\n",
      "13           possui_email         int64               2\n",
      "14  qt_pessoas_residencia       float64               9\n",
      "15                    mau          bool               2\n"
     ]
    }
   ],
   "source": [
    "## 2)\n",
    "# 1. Inicie uma lista vazia\n",
    "qtd_categorias_list = []\n",
    "\n",
    "# 2. Faça um for ao longo dos nomes das variáveis\n",
    "for var in variaveis:\n",
    "    # 3. Conte o número de categorias dessa variável\n",
    "    qtd_categorias = len(dados_demo[var].unique())\n",
    "    \n",
    "    # 4. Acumule essa informação na lista criada em 1.\n",
    "    qtd_categorias_list.append(qtd_categorias)\n",
    "\n",
    "# 5. Atribua a lista à nossa variável\n",
    "info_variaveis['qtd_categorias'] = qtd_categorias_list\n",
    "\n",
    "# Exibir o DataFrame\n",
    "print(info_variaveis)"
   ]
  },
  {
   "cell_type": "markdown",
   "metadata": {},
   "source": [
    "#### 3) Crie variáveis dummy para as variáveis necessárias (i.e. aquelas que são qualitativas e não estão armazenadas como {0, 1} ou {True, False}. Crie um *dataframe* apenas com as variáveis apropriadas para entrada no scikitlearn - elimine as variáveis tipo *str*, mantendo apenas suas versões *dummy*."
   ]
  },
  {
   "cell_type": "code",
   "execution_count": 14,
   "metadata": {},
   "outputs": [
    {
     "name": "stdout",
     "output_type": "stream",
     "text": [
      "       qtd_filhos      idade  tempo_emprego  possui_celular  \\\n",
      "0               0  58.832877       3.106849               1   \n",
      "1               0  52.356164       8.358904               1   \n",
      "2               0  52.356164       8.358904               1   \n",
      "3               0  46.224658       2.106849               1   \n",
      "4               0  29.230137       3.021918               1   \n",
      "...           ...        ...            ...             ...   \n",
      "16645           0  54.109589       9.884932               1   \n",
      "16646           0  43.389041       7.380822               1   \n",
      "16647           0  30.005479       9.800000               1   \n",
      "16648           0  30.005479       9.800000               1   \n",
      "16649           0  33.936986       3.630137               1   \n",
      "\n",
      "       possui_fone_comercial  possui_fone  possui_email  \\\n",
      "0                          0            0             0   \n",
      "1                          0            1             1   \n",
      "2                          0            1             1   \n",
      "3                          1            1             1   \n",
      "4                          0            0             0   \n",
      "...                      ...          ...           ...   \n",
      "16645                      0            0             0   \n",
      "16646                      1            1             0   \n",
      "16647                      1            0             0   \n",
      "16648                      1            0             0   \n",
      "16649                      0            1             1   \n",
      "\n",
      "       qt_pessoas_residencia  sexo_M  posse_de_veiculo_Y  ...  \\\n",
      "0                        2.0    True                True  ...   \n",
      "1                        1.0   False               False  ...   \n",
      "2                        1.0   False               False  ...   \n",
      "3                        2.0    True                True  ...   \n",
      "4                        2.0   False                True  ...   \n",
      "...                      ...     ...                 ...  ...   \n",
      "16645                    2.0   False               False  ...   \n",
      "16646                    2.0   False               False  ...   \n",
      "16647                    2.0    True                True  ...   \n",
      "16648                    2.0    True                True  ...   \n",
      "16649                    2.0   False               False  ...   \n",
      "\n",
      "       educacao_Secondary / secondary special  estado_civil_Married  \\\n",
      "0                                        True                  True   \n",
      "1                                        True                 False   \n",
      "2                                        True                 False   \n",
      "3                                       False                  True   \n",
      "4                                       False                  True   \n",
      "...                                       ...                   ...   \n",
      "16645                                    True                 False   \n",
      "16646                                    True                  True   \n",
      "16647                                    True                  True   \n",
      "16648                                    True                  True   \n",
      "16649                                   False                  True   \n",
      "\n",
      "       estado_civil_Separated  estado_civil_Single / not married  \\\n",
      "0                       False                              False   \n",
      "1                       False                               True   \n",
      "2                       False                               True   \n",
      "3                       False                              False   \n",
      "4                       False                              False   \n",
      "...                       ...                                ...   \n",
      "16645                   False                              False   \n",
      "16646                   False                              False   \n",
      "16647                   False                              False   \n",
      "16648                   False                              False   \n",
      "16649                   False                              False   \n",
      "\n",
      "       estado_civil_Widow  tipo_residencia_House / apartment  \\\n",
      "0                   False                               True   \n",
      "1                   False                               True   \n",
      "2                   False                               True   \n",
      "3                   False                               True   \n",
      "4                   False                               True   \n",
      "...                   ...                                ...   \n",
      "16645               False                               True   \n",
      "16646               False                               True   \n",
      "16647               False                               True   \n",
      "16648               False                               True   \n",
      "16649               False                               True   \n",
      "\n",
      "       tipo_residencia_Municipal apartment  tipo_residencia_Office apartment  \\\n",
      "0                                    False                             False   \n",
      "1                                    False                             False   \n",
      "2                                    False                             False   \n",
      "3                                    False                             False   \n",
      "4                                    False                             False   \n",
      "...                                    ...                               ...   \n",
      "16645                                False                             False   \n",
      "16646                                False                             False   \n",
      "16647                                False                             False   \n",
      "16648                                False                             False   \n",
      "16649                                False                             False   \n",
      "\n",
      "       tipo_residencia_Rented apartment  tipo_residencia_With parents  \n",
      "0                                 False                         False  \n",
      "1                                 False                         False  \n",
      "2                                 False                         False  \n",
      "3                                 False                         False  \n",
      "4                                 False                         False  \n",
      "...                                 ...                           ...  \n",
      "16645                             False                         False  \n",
      "16646                             False                         False  \n",
      "16647                             False                         False  \n",
      "16648                             False                         False  \n",
      "16649                             False                         False  \n",
      "\n",
      "[16650 rows x 28 columns]\n"
     ]
    }
   ],
   "source": [
    "# 1. Selecionar apenas as variáveis numéricas e categóricas\n",
    "dados_demo_numeric = dados_demo.select_dtypes(include=['number'])\n",
    "dados_demo_categorical = dados_demo.select_dtypes(include=['object'])\n",
    "\n",
    "# 2. Criar variáveis dummy para as variáveis categóricas\n",
    "dados_demo_categorical_dummies = pd.get_dummies(dados_demo_categorical, drop_first=True)\n",
    "\n",
    "# 3. Concatenar os DataFrames\n",
    "dados_processados = pd.concat([dados_demo_numeric, dados_demo_categorical_dummies], axis=1)\n",
    "\n",
    "# Exibir o DataFrame resultante\n",
    "print(dados_processados)"
   ]
  },
  {
   "cell_type": "markdown",
   "metadata": {},
   "source": [
    "#### 4) Qual variável é mais poderosa?\n",
    "\n",
    "Considere as variáveis ```possui_email``` e ```posse_de_veiculo```. Faça uma tabela cruzada entre elas e responda qual delas te parece mais poderosa para prever a probabilidade de ```mau = 1```?"
   ]
  },
  {
   "cell_type": "code",
   "execution_count": 17,
   "metadata": {
    "scrolled": true
   },
   "outputs": [
    {
     "data": {
      "image/png": "[encoded data removed]",
      "text/plain": [
       "<Figure size 640x480 with 2 Axes>"
      ]
     },
     "metadata": {},
     "output_type": "display_data"
    }
   ],
   "source": [
    "# Criação da tabela cruzada\n",
    "tabela_cruzada = pd.crosstab([dados_demo['possui_email'], dados_demo['posse_de_veiculo']], dados_demo['mau'], margins=True, margins_name='Total')\n",
    "\n",
    "# Plotagem do gráfico\n",
    "sns.heatmap(tabela_cruzada, annot=True, fmt='g', cmap='Blues', cbar=True)\n",
    "plt.title('Tabela Cruzada entre Possui Email, Posse de Veículo e Mau')\n",
    "plt.show()"
   ]
  },
  {
   "cell_type": "code",
   "execution_count": null,
   "metadata": {},
   "outputs": [],
   "source": [
    "Posee email da mais informacoes"
   ]
  },
  {
   "cell_type": "markdown",
   "metadata": {},
   "source": [
    "#### 5) Salve a base, pois ela será utilizada no final deste módulo."
   ]
  },
  {
   "cell_type": "code",
   "execution_count": 18,
   "metadata": {},
   "outputs": [],
   "source": [
    "dados_demo.to_csv('Demofinal.csv', index=False)"
   ]
  },
  {
   "cell_type": "code",
   "execution_count": null,
   "metadata": {},
   "outputs": [],
   "source": []
  }
 ],
 "metadata": {
  "kernelspec": {
   "display_name": "Python 3 (ipykernel)",
   "language": "python",
   "name": "python3"
  },
  "language_info": {
   "codemirror_mode": {
    "name": "ipython",
    "version": 3
   },
   "file_extension": ".py",
   "mimetype": "text/x-python",
   "name": "python",
   "nbconvert_exporter": "python",
   "pygments_lexer": "ipython3",
   "version": "3.11.5"
  }
 },
 "nbformat": 4,
 "nbformat_minor": 4
}
